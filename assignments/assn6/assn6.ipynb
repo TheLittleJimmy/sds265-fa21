{
 "cells": [
  {
   "cell_type": "markdown",
   "metadata": {},
   "source": [
    "## Introductory Machine Learning: Assignment 6\n",
    "\n",
    "**Deadline:**\n",
    "\n",
    "Assignment 6 is due Thursday, November 30 at 11:59pm. Late work will not be accepted as per the course policies (see the Syllabus and Course policies on [Canvas](https://canvas.yale.edu).\n",
    "\n",
    "Directly sharing answers is not okay, but discussing problems with the course staff or with other students is encouraged.\n",
    "\n",
    "You should start early so that you have time to get help if you're stuck. The drop-in office hours schedule can be found on [Canvas](https://canvas.yale.edu).  You can also post questions or start discussions on [Ed Discussion](https://edstem.org/us/courses/9209/discussion/). The problems are broken up into steps that should help you to make steady progress.\n",
    "\n",
    "**Submission:**\n",
    "\n",
    "Submit your assignment as a .pdf on Gradescope, and as a .ipynb on Canvas. You can access Gradescope through Canvas on the left-side of the class home page. The problems in each homework assignment are numbered. Note: When submitting on Gradescope, please select the correct pages of your pdf that correspond to each problem. This will allow graders to find your complete solution to each problem.\n",
    "\n",
    "To produce the .pdf, please do the following in order to preserve the cell structure of the notebook:  \n",
    "1.  Go to \"File\" at the top-left of your Jupyter Notebook\n",
    "2.  Under \"Download as\", select \"HTML (.html)\"\n",
    "3.  After the .html has downloaded, open it and then select \"File\" and \"Print\" (note you will not actually be printing)\n",
    "4.  From the print window, select the option to save as a .pdf\n",
    "\n",
    "**Topics**\n",
    "1. Bayesian inference\n",
    "2. Topic models\n",
    "\n",
    "The first two problems test some of the basics of Bayesian inference. The third problem has you building topic models and using them to fit some linear regressions. The fourth problem asks you to build topic models on the UN data.\n",
    "\n",
    "Note: The assignment looks longer than it really is. We step you through most of the code that you need. But it's still on the long side. Although the assignment is due in three weeks, we encourage you to start early!"
   ]
  },
  {
   "cell_type": "markdown",
   "metadata": {},
   "source": [
    "### Problem 1: Let the good times roll (10 points)\n",
    "\n",
    "Consider the scenario of rolling a 4-sided die with the numbers $1$, $2$, $3$, and $4$ on its faces. Suppose we roll this die many times and get a collection of $n$ outcomes represented by $X_{1}, X_{2}, ..., X_{n}$. Here each $X_{i}$ is a random variable that independently follows a Multinomial$(p_{1}, p_{2}, p_{3}, p_{4})$ model (where $p_{1}+p_{2}+p_{3}+p_{4}=1$).\n",
    "\n",
    "This die may or may not be fair. If it were fair then $p_{1}=p_{2}=p_{3}=p_{4}=0.25$, but since we are uncertain about these parameters we treat them as random and the problem requires Bayesian inference."
   ]
  },
  {
   "cell_type": "code",
   "execution_count": 1,
   "metadata": {
    "ExecuteTime": {
     "end_time": "2021-11-09T23:28:04.841502Z",
     "start_time": "2021-11-09T23:28:04.135642Z"
    }
   },
   "outputs": [],
   "source": [
    "import numpy as np\n",
    "import matplotlib.pyplot as plt\n",
    "import pickle"
   ]
  },
  {
   "cell_type": "markdown",
   "metadata": {},
   "source": [
    "#### Part (a)\n",
    "\n",
    "For (a) we will assume that $(p_{1}, p_{2}, p_{3}, p_{4})$ follows a Dirichlet$(\\alpha_{1}, \\alpha_{2}, \\alpha_{3}, \\alpha_{4})$ distribution where $\\alpha_{1}, \\alpha_{2}, \\alpha_{3}, \\alpha_{4}$ are unknown, positive-valued parameters. Suppose we have a prior belief that the four-sided die is close to being fair. This is represented by $\\alpha_{1}= \\alpha_{2}= \\alpha_{3}= \\alpha_{4} = c$ for some positive real number $c$.\n",
    "\n",
    "For $c = 0.1, 1, 10, 30, 60, 100, 1000$ draw $1000$ samples of $(p_{1}, p_{2}, p_{3}, p_{4})$ from a Dirichlet$(c,c,c,c)$ distribution. For this sample, calculate the mean and standard deviation of $p_{1}$. Create a plot of $log(c)$ vs. the mean and another plot of $log(c)$ vs. the standard deviation. Describe in your own words what happens to these two quantities as $c$ increases."
   ]
  },
  {
   "cell_type": "code",
   "execution_count": null,
   "metadata": {},
   "outputs": [],
   "source": [
    "# Your code here"
   ]
  },
  {
   "cell_type": "markdown",
   "metadata": {},
   "source": [
    "[Your markdown here]"
   ]
  },
  {
   "cell_type": "markdown",
   "metadata": {},
   "source": [
    "#### Part (b)\n",
    "\n",
    "The following cell loads 10,000 rolls for the four-sided die. $[1,0,0,0]$ indicates that the die landed on face $1$, $[0,1,0,0]$ indicates that the die landed on face $2$, and so on. For $c = 0.1, 1, 10, 30, 60, 100, 1000$, use Dirichlet$(c,c,c,c)$ as the prior distribution for $(p_{1}, p_{2}, p_{3}, p_{4})$. *Using only the first $100$ rolls of the die*, calculate the mean of the posterior distribution. What do you notice about the posterior mean as $c$ increases?\n",
    "\n",
    "Give code to compute the answer and plot the results. Also, give a markdown cell with a mathematical expression for the solution.\n",
    "\n",
    "Hint: The mean of the Dirichlet$(\\alpha_{1}, \\alpha_{2}, \\alpha_{3}, \\alpha_{4})$ is $\\left( \\dfrac{\\alpha_{1}}{\\alpha_{1} + \\alpha_{2} +\\alpha_{3} +\\alpha_{4}}, \\dfrac{\\alpha_{2}}{\\alpha_{1} + \\alpha_{2} +\\alpha_{3} +\\alpha_{4}}, \\dfrac{\\alpha_{3}}{\\alpha_{1} + \\alpha_{2} +\\alpha_{3} +\\alpha_{4}}, \\dfrac{\\alpha_{4}}{\\alpha_{1} + \\alpha_{2} +\\alpha_{3} +\\alpha_{4}} \\right)$"
   ]
  },
  {
   "cell_type": "code",
   "execution_count": null,
   "metadata": {},
   "outputs": [],
   "source": [
    "with open(\"X.pkl\", \"rb\") as f:\n",
    "    X = pickle.load(f)"
   ]
  },
  {
   "cell_type": "code",
   "execution_count": null,
   "metadata": {},
   "outputs": [],
   "source": [
    "# Your code here"
   ]
  },
  {
   "cell_type": "markdown",
   "metadata": {},
   "source": [
    "[Your markdown here]"
   ]
  },
  {
   "cell_type": "markdown",
   "metadata": {},
   "source": [
    "#### Part (c)\n",
    "\n",
    "Now repeat the process in Part (b), but with sample sizes $N = 100, 200, 300, ..., 9900, 10000$. For each value of $c$, create a plot that shows the trend of the posterior mean for $p_{1}$ as a function of sample size $N$. Create a similar plot for $p_{2}$, $p_{3}$, and $p_{4}$. Explain what these plots illustrate about the choice of prior and the sample size. What do you estimate were the true parameters used to generate this dataset?"
   ]
  },
  {
   "cell_type": "code",
   "execution_count": null,
   "metadata": {},
   "outputs": [],
   "source": [
    "# Your code here"
   ]
  },
  {
   "cell_type": "markdown",
   "metadata": {},
   "source": [
    "[Your markdown here]"
   ]
  },
  {
   "cell_type": "markdown",
   "metadata": {},
   "source": [
    "### Problem 2: Toy Story (12 points)"
   ]
  },
  {
   "cell_type": "markdown",
   "metadata": {},
   "source": [
    "Gibbs sampling is one of the commonly used approach to approximate the inference for Latent Dirichlet Allocation model. In this problem, we will use the toy example from class."
   ]
  },
  {
   "cell_type": "markdown",
   "metadata": {},
   "source": [
    "<img src=\"https://raw.githubusercontent.com/YData123/sds265-fa21/main/assignments/assn6/diagram.png\" width=\"500\" align=\"center\">"
   ]
  },
  {
   "cell_type": "markdown",
   "metadata": {},
   "source": [
    "Assume that there are 3 documents and 15 words in the corpus. We would like to build a topic model with 3 topics. The proportions parameter is $\\alpha$ and the topic parameter is $\\eta$. The table below shows an assignment of topics to words in the toy corpus at one stage of the Gibbs sampling algorithm. "
   ]
  },
  {
   "cell_type": "markdown",
   "metadata": {},
   "source": [
    "<img src=\"https://raw.githubusercontent.com/YData123/sds265-fa21/main/assignments/assn6/words.png\" width=\"500\" align=\"center\">"
   ]
  },
  {
   "cell_type": "markdown",
   "metadata": {},
   "source": [
    "Using only these assignment id $Z$ for each word, the following problems ask you \n",
    "to calculate the posterior topic proportions for each document, and word probabilities \n",
    "for one word in each of the three topics. To answer these questions you only need\n",
    "to use the basic properties of the Dirichlet distribution as a prior for \n",
    "a multinomial, as presented in class (and in the notes on Bayesian inference).\n"
   ]
  },
  {
   "cell_type": "markdown",
   "metadata": {},
   "source": [
    "#### Problem 2.1: Per-document topic proportions\n",
    "\n",
    "Given the $Z$ values in the table, what are the posterior distributions of $\\theta_{d}$ for documents $D_{1}$, $D_{2}$ and $D_{3}$ from left to right. Assume the prior over $\\theta$ is \n",
    "$\\mbox{Dirichlet}(\\alpha, \\alpha, \\alpha)$."
   ]
  },
  {
   "cell_type": "markdown",
   "metadata": {},
   "source": [
    "[your markdown here]"
   ]
  },
  {
   "cell_type": "markdown",
   "metadata": {},
   "source": [
    "#### Problem 2.2: Topics\n",
    "\n",
    "Here are the 15 words in our corpus:\n",
    "\n",
    "addiction, brother, baseball, catcher, daughter, divorce, drug, hit, inning, illegal, meth, mother, swing, son, steroids\n",
    "\n",
    "What is the posterior mean for the probability $p(\\mbox{addiction} | \\mbox{topic 1})$? \n",
    "Assume that the prior distribution over the topics is $\\mbox{Dirichlet}(\\eta,...\\eta)$."
   ]
  },
  {
   "cell_type": "markdown",
   "metadata": {},
   "source": [
    "[your markdown here]"
   ]
  },
  {
   "cell_type": "markdown",
   "metadata": {},
   "source": [
    "What is the posterior mean of the probability $p(\\mbox{baseball}| \\mbox{topic 2})$?"
   ]
  },
  {
   "cell_type": "markdown",
   "metadata": {},
   "source": [
    "[your markdown here]"
   ]
  },
  {
   "cell_type": "markdown",
   "metadata": {},
   "source": [
    "What is the posterior mean of the probability $p(\\mbox{divorce} | \\mbox{topic 3})$?"
   ]
  },
  {
   "cell_type": "markdown",
   "metadata": {},
   "source": [
    "[your markdown here]"
   ]
  },
  {
   "cell_type": "markdown",
   "metadata": {},
   "source": [
    "## Problem 3: Read before you buy! (30 points)\n",
    "\n",
    "![zillow](https://raw.githubusercontent.com/YData123/sds265-fa21/main/assignments/assn6/zillow.png)\n",
    "\n",
    "### Overview of the problem\n",
    "\n",
    "Here we have a dataset of single family houses sold in Connecticut near the beginning of 2021, collected from [Zillow](https://www.zillow.com/homes/connecticut_rb/). You will build linear models of the price for which each house sold, based on its characteristics given in the real estate listing. Such characteristics include internal square footage, the year it was built, the bedroom count, the bathroom count, and the area of the lot. \n",
    "\n",
    "But there is also usually a lengthy description written by the real estate agent. Is there any additional information hidden in this description that would help improve the model of the price? This is the question we focus on in this problem.\n",
    "\n",
    "Answering such a question is difficult because the description is written in natural language with thousands of different words. Here we use topic models as a dimension reduction technique. Specifically, instead of using thousands of possible words, and how many times they show up in each house description, we reduce the words to the topic proportions $\\theta_d$ for each document, obtained by posterior inference. These proportions are combined with the other quantitative variables in a linear model with the logarithm of the house price as the response variable. \n",
    "\n",
    "*Important note:* At first glance, this problem looks really long. But this is deceiving. \n",
    "After reading in the data, we have you make some plots of the log-transformed variables. \n",
    "After that, you just need to run the code that leads up to training a 10-topic topic model, \n",
    "and fitting a linear model using the resulting topic proportions. After this, you are asked to compare the results to those obtained with a 3-topic model. To do this, you can simply copy the code used for the 10-topic model. After that, the crux of the problem is to analyze, understand, and describe the results.\n",
    "\n",
    "Acknowledgment: The data were scraped and the analysis was done by [Parker Holzer](https://parkerholzer.github.io/), as he began his search for a new house for his family after beginning a job as a data scientist. Thanks Parker!\n"
   ]
  },
  {
   "cell_type": "code",
   "execution_count": 1,
   "metadata": {},
   "outputs": [],
   "source": [
    "import numpy as np\n",
    "import pandas as pd\n",
    "import re\n",
    "import gensim\n",
    "from collections import Counter\n",
    "import statsmodels.formula.api as sm\n",
    "import matplotlib.pyplot as plt\n",
    "%matplotlib inline"
   ]
  },
  {
   "cell_type": "markdown",
   "metadata": {},
   "source": [
    "### Read in and clean up the data"
   ]
  },
  {
   "cell_type": "code",
   "execution_count": 2,
   "metadata": {
    "scrolled": true
   },
   "outputs": [
    {
     "data": {
      "text/html": [
       "<div>\n",
       "<style scoped>\n",
       "    .dataframe tbody tr th:only-of-type {\n",
       "        vertical-align: middle;\n",
       "    }\n",
       "\n",
       "    .dataframe tbody tr th {\n",
       "        vertical-align: top;\n",
       "    }\n",
       "\n",
       "    .dataframe thead th {\n",
       "        text-align: right;\n",
       "    }\n",
       "</style>\n",
       "<table border=\"1\" class=\"dataframe\">\n",
       "  <thead>\n",
       "    <tr style=\"text-align: right;\">\n",
       "      <th></th>\n",
       "      <th>AREA</th>\n",
       "      <th>BED</th>\n",
       "      <th>BATH</th>\n",
       "      <th>BUILT</th>\n",
       "      <th>DESCRIPTION</th>\n",
       "      <th>LOTSIZE</th>\n",
       "      <th>PRICE</th>\n",
       "    </tr>\n",
       "  </thead>\n",
       "  <tbody>\n",
       "    <tr>\n",
       "      <th>0</th>\n",
       "      <td>1629.0</td>\n",
       "      <td>2.0</td>\n",
       "      <td>2.0</td>\n",
       "      <td>1889.0</td>\n",
       "      <td>Welcome home! Charming &amp; well kept, this 2 bed...</td>\n",
       "      <td>0.159986</td>\n",
       "      <td>224000.0</td>\n",
       "    </tr>\n",
       "    <tr>\n",
       "      <th>1</th>\n",
       "      <td>1278.0</td>\n",
       "      <td>3.0</td>\n",
       "      <td>2.0</td>\n",
       "      <td>1900.0</td>\n",
       "      <td>This adorable cape has a lot to offer.  You st...</td>\n",
       "      <td>0.179981</td>\n",
       "      <td>225000.0</td>\n",
       "    </tr>\n",
       "    <tr>\n",
       "      <th>2</th>\n",
       "      <td>1264.0</td>\n",
       "      <td>3.0</td>\n",
       "      <td>2.0</td>\n",
       "      <td>1988.0</td>\n",
       "      <td>This 1264 sqft Colonial with its 3 bedrooms an...</td>\n",
       "      <td>0.089991</td>\n",
       "      <td>224900.0</td>\n",
       "    </tr>\n",
       "    <tr>\n",
       "      <th>3</th>\n",
       "      <td>2054.0</td>\n",
       "      <td>3.0</td>\n",
       "      <td>3.0</td>\n",
       "      <td>1960.0</td>\n",
       "      <td>The perfect oversized ranch awaits you at 7 No...</td>\n",
       "      <td>0.569994</td>\n",
       "      <td>370000.0</td>\n",
       "    </tr>\n",
       "    <tr>\n",
       "      <th>4</th>\n",
       "      <td>4198.0</td>\n",
       "      <td>5.0</td>\n",
       "      <td>3.0</td>\n",
       "      <td>1972.0</td>\n",
       "      <td>Beautiful Colonial-3020 sqft. living space and...</td>\n",
       "      <td>0.939989</td>\n",
       "      <td>489999.0</td>\n",
       "    </tr>\n",
       "    <tr>\n",
       "      <th>...</th>\n",
       "      <td>...</td>\n",
       "      <td>...</td>\n",
       "      <td>...</td>\n",
       "      <td>...</td>\n",
       "      <td>...</td>\n",
       "      <td>...</td>\n",
       "      <td>...</td>\n",
       "    </tr>\n",
       "    <tr>\n",
       "      <th>1921</th>\n",
       "      <td>848.0</td>\n",
       "      <td>3.0</td>\n",
       "      <td>2.0</td>\n",
       "      <td>1948.0</td>\n",
       "      <td>This home sets at the beginning of a Cul-de-Sa...</td>\n",
       "      <td>0.189990</td>\n",
       "      <td>429900.0</td>\n",
       "    </tr>\n",
       "    <tr>\n",
       "      <th>1922</th>\n",
       "      <td>2400.0</td>\n",
       "      <td>4.0</td>\n",
       "      <td>4.0</td>\n",
       "      <td>2021.0</td>\n",
       "      <td>New home to be built. Amazing unobstructed wat...</td>\n",
       "      <td>0.079981</td>\n",
       "      <td>800000.0</td>\n",
       "    </tr>\n",
       "    <tr>\n",
       "      <th>1923</th>\n",
       "      <td>6538.0</td>\n",
       "      <td>7.0</td>\n",
       "      <td>7.0</td>\n",
       "      <td>2002.0</td>\n",
       "      <td>Can you say water views galore? Wake up to the...</td>\n",
       "      <td>0.079981</td>\n",
       "      <td>2700000.0</td>\n",
       "    </tr>\n",
       "    <tr>\n",
       "      <th>1924</th>\n",
       "      <td>4480.0</td>\n",
       "      <td>5.0</td>\n",
       "      <td>5.0</td>\n",
       "      <td>1890.0</td>\n",
       "      <td>NEW YEAR!  NEW FUTURE!    Escape NY to Connect...</td>\n",
       "      <td>0.849998</td>\n",
       "      <td>2550000.0</td>\n",
       "    </tr>\n",
       "    <tr>\n",
       "      <th>1925</th>\n",
       "      <td>3000.0</td>\n",
       "      <td>4.0</td>\n",
       "      <td>3.0</td>\n",
       "      <td>2020.0</td>\n",
       "      <td>One of the nicest new construction homes avail...</td>\n",
       "      <td>0.119995</td>\n",
       "      <td>1275000.0</td>\n",
       "    </tr>\n",
       "  </tbody>\n",
       "</table>\n",
       "<p>1926 rows × 7 columns</p>\n",
       "</div>"
      ],
      "text/plain": [
       "        AREA  BED  BATH   BUILT  \\\n",
       "0     1629.0  2.0   2.0  1889.0   \n",
       "1     1278.0  3.0   2.0  1900.0   \n",
       "2     1264.0  3.0   2.0  1988.0   \n",
       "3     2054.0  3.0   3.0  1960.0   \n",
       "4     4198.0  5.0   3.0  1972.0   \n",
       "...      ...  ...   ...     ...   \n",
       "1921   848.0  3.0   2.0  1948.0   \n",
       "1922  2400.0  4.0   4.0  2021.0   \n",
       "1923  6538.0  7.0   7.0  2002.0   \n",
       "1924  4480.0  5.0   5.0  1890.0   \n",
       "1925  3000.0  4.0   3.0  2020.0   \n",
       "\n",
       "                                            DESCRIPTION   LOTSIZE      PRICE  \n",
       "0     Welcome home! Charming & well kept, this 2 bed...  0.159986   224000.0  \n",
       "1     This adorable cape has a lot to offer.  You st...  0.179981   225000.0  \n",
       "2     This 1264 sqft Colonial with its 3 bedrooms an...  0.089991   224900.0  \n",
       "3     The perfect oversized ranch awaits you at 7 No...  0.569994   370000.0  \n",
       "4     Beautiful Colonial-3020 sqft. living space and...  0.939989   489999.0  \n",
       "...                                                 ...       ...        ...  \n",
       "1921  This home sets at the beginning of a Cul-de-Sa...  0.189990   429900.0  \n",
       "1922  New home to be built. Amazing unobstructed wat...  0.079981   800000.0  \n",
       "1923  Can you say water views galore? Wake up to the...  0.079981  2700000.0  \n",
       "1924  NEW YEAR!  NEW FUTURE!    Escape NY to Connect...  0.849998  2550000.0  \n",
       "1925  One of the nicest new construction homes avail...  0.119995  1275000.0  \n",
       "\n",
       "[1926 rows x 7 columns]"
      ]
     },
     "execution_count": 2,
     "metadata": {},
     "output_type": "execute_result"
    }
   ],
   "source": [
    "ct_homes = pd.read_csv('https://raw.githubusercontent.com/YData123/sds265-fa21/main/assignments/assn6/ct_zillow.csv')\n",
    "ct_homes"
   ]
  },
  {
   "cell_type": "markdown",
   "metadata": {},
   "source": [
    "#### Transform the data\n",
    "\n",
    "We add columns to `ct_homes` called `logAREA`, `logLOTSIZE`, and `logPRICE` that take the logarithms of the corresponding columns in the original data. \n"
   ]
  },
  {
   "cell_type": "code",
   "execution_count": 3,
   "metadata": {},
   "outputs": [
    {
     "data": {
      "text/html": [
       "<div>\n",
       "<style scoped>\n",
       "    .dataframe tbody tr th:only-of-type {\n",
       "        vertical-align: middle;\n",
       "    }\n",
       "\n",
       "    .dataframe tbody tr th {\n",
       "        vertical-align: top;\n",
       "    }\n",
       "\n",
       "    .dataframe thead th {\n",
       "        text-align: right;\n",
       "    }\n",
       "</style>\n",
       "<table border=\"1\" class=\"dataframe\">\n",
       "  <thead>\n",
       "    <tr style=\"text-align: right;\">\n",
       "      <th></th>\n",
       "      <th>AREA</th>\n",
       "      <th>BED</th>\n",
       "      <th>BATH</th>\n",
       "      <th>BUILT</th>\n",
       "      <th>DESCRIPTION</th>\n",
       "      <th>LOTSIZE</th>\n",
       "      <th>PRICE</th>\n",
       "      <th>logAREA</th>\n",
       "      <th>logLOTSIZE</th>\n",
       "      <th>logPRICE</th>\n",
       "    </tr>\n",
       "  </thead>\n",
       "  <tbody>\n",
       "    <tr>\n",
       "      <th>0</th>\n",
       "      <td>1629.0</td>\n",
       "      <td>2.0</td>\n",
       "      <td>2.0</td>\n",
       "      <td>1889.0</td>\n",
       "      <td>Welcome home! Charming &amp; well kept, this 2 bed...</td>\n",
       "      <td>0.159986</td>\n",
       "      <td>224000.0</td>\n",
       "      <td>7.395722</td>\n",
       "      <td>-1.832669</td>\n",
       "      <td>12.319401</td>\n",
       "    </tr>\n",
       "    <tr>\n",
       "      <th>1</th>\n",
       "      <td>1278.0</td>\n",
       "      <td>3.0</td>\n",
       "      <td>2.0</td>\n",
       "      <td>1900.0</td>\n",
       "      <td>This adorable cape has a lot to offer.  You st...</td>\n",
       "      <td>0.179981</td>\n",
       "      <td>225000.0</td>\n",
       "      <td>7.153052</td>\n",
       "      <td>-1.714902</td>\n",
       "      <td>12.323856</td>\n",
       "    </tr>\n",
       "    <tr>\n",
       "      <th>2</th>\n",
       "      <td>1264.0</td>\n",
       "      <td>3.0</td>\n",
       "      <td>2.0</td>\n",
       "      <td>1988.0</td>\n",
       "      <td>This 1264 sqft Colonial with its 3 bedrooms an...</td>\n",
       "      <td>0.089991</td>\n",
       "      <td>224900.0</td>\n",
       "      <td>7.142037</td>\n",
       "      <td>-2.408049</td>\n",
       "      <td>12.323411</td>\n",
       "    </tr>\n",
       "    <tr>\n",
       "      <th>3</th>\n",
       "      <td>2054.0</td>\n",
       "      <td>3.0</td>\n",
       "      <td>3.0</td>\n",
       "      <td>1960.0</td>\n",
       "      <td>The perfect oversized ranch awaits you at 7 No...</td>\n",
       "      <td>0.569994</td>\n",
       "      <td>370000.0</td>\n",
       "      <td>7.627544</td>\n",
       "      <td>-0.562129</td>\n",
       "      <td>12.821258</td>\n",
       "    </tr>\n",
       "    <tr>\n",
       "      <th>4</th>\n",
       "      <td>4198.0</td>\n",
       "      <td>5.0</td>\n",
       "      <td>3.0</td>\n",
       "      <td>1972.0</td>\n",
       "      <td>Beautiful Colonial-3020 sqft. living space and...</td>\n",
       "      <td>0.939989</td>\n",
       "      <td>489999.0</td>\n",
       "      <td>8.342364</td>\n",
       "      <td>-0.061887</td>\n",
       "      <td>13.102159</td>\n",
       "    </tr>\n",
       "    <tr>\n",
       "      <th>...</th>\n",
       "      <td>...</td>\n",
       "      <td>...</td>\n",
       "      <td>...</td>\n",
       "      <td>...</td>\n",
       "      <td>...</td>\n",
       "      <td>...</td>\n",
       "      <td>...</td>\n",
       "      <td>...</td>\n",
       "      <td>...</td>\n",
       "      <td>...</td>\n",
       "    </tr>\n",
       "    <tr>\n",
       "      <th>1921</th>\n",
       "      <td>848.0</td>\n",
       "      <td>3.0</td>\n",
       "      <td>2.0</td>\n",
       "      <td>1948.0</td>\n",
       "      <td>This home sets at the beginning of a Cul-de-Sa...</td>\n",
       "      <td>0.189990</td>\n",
       "      <td>429900.0</td>\n",
       "      <td>6.742881</td>\n",
       "      <td>-1.660781</td>\n",
       "      <td>12.971308</td>\n",
       "    </tr>\n",
       "    <tr>\n",
       "      <th>1922</th>\n",
       "      <td>2400.0</td>\n",
       "      <td>4.0</td>\n",
       "      <td>4.0</td>\n",
       "      <td>2021.0</td>\n",
       "      <td>New home to be built. Amazing unobstructed wat...</td>\n",
       "      <td>0.079981</td>\n",
       "      <td>800000.0</td>\n",
       "      <td>7.783224</td>\n",
       "      <td>-2.525960</td>\n",
       "      <td>13.592367</td>\n",
       "    </tr>\n",
       "    <tr>\n",
       "      <th>1923</th>\n",
       "      <td>6538.0</td>\n",
       "      <td>7.0</td>\n",
       "      <td>7.0</td>\n",
       "      <td>2002.0</td>\n",
       "      <td>Can you say water views galore? Wake up to the...</td>\n",
       "      <td>0.079981</td>\n",
       "      <td>2700000.0</td>\n",
       "      <td>8.785387</td>\n",
       "      <td>-2.525960</td>\n",
       "      <td>14.808762</td>\n",
       "    </tr>\n",
       "    <tr>\n",
       "      <th>1924</th>\n",
       "      <td>4480.0</td>\n",
       "      <td>5.0</td>\n",
       "      <td>5.0</td>\n",
       "      <td>1890.0</td>\n",
       "      <td>NEW YEAR!  NEW FUTURE!    Escape NY to Connect...</td>\n",
       "      <td>0.849998</td>\n",
       "      <td>2550000.0</td>\n",
       "      <td>8.407378</td>\n",
       "      <td>-0.162521</td>\n",
       "      <td>14.751604</td>\n",
       "    </tr>\n",
       "    <tr>\n",
       "      <th>1925</th>\n",
       "      <td>3000.0</td>\n",
       "      <td>4.0</td>\n",
       "      <td>3.0</td>\n",
       "      <td>2020.0</td>\n",
       "      <td>One of the nicest new construction homes avail...</td>\n",
       "      <td>0.119995</td>\n",
       "      <td>1275000.0</td>\n",
       "      <td>8.006368</td>\n",
       "      <td>-2.120304</td>\n",
       "      <td>14.058457</td>\n",
       "    </tr>\n",
       "  </tbody>\n",
       "</table>\n",
       "<p>1926 rows × 10 columns</p>\n",
       "</div>"
      ],
      "text/plain": [
       "        AREA  BED  BATH   BUILT  \\\n",
       "0     1629.0  2.0   2.0  1889.0   \n",
       "1     1278.0  3.0   2.0  1900.0   \n",
       "2     1264.0  3.0   2.0  1988.0   \n",
       "3     2054.0  3.0   3.0  1960.0   \n",
       "4     4198.0  5.0   3.0  1972.0   \n",
       "...      ...  ...   ...     ...   \n",
       "1921   848.0  3.0   2.0  1948.0   \n",
       "1922  2400.0  4.0   4.0  2021.0   \n",
       "1923  6538.0  7.0   7.0  2002.0   \n",
       "1924  4480.0  5.0   5.0  1890.0   \n",
       "1925  3000.0  4.0   3.0  2020.0   \n",
       "\n",
       "                                            DESCRIPTION   LOTSIZE      PRICE  \\\n",
       "0     Welcome home! Charming & well kept, this 2 bed...  0.159986   224000.0   \n",
       "1     This adorable cape has a lot to offer.  You st...  0.179981   225000.0   \n",
       "2     This 1264 sqft Colonial with its 3 bedrooms an...  0.089991   224900.0   \n",
       "3     The perfect oversized ranch awaits you at 7 No...  0.569994   370000.0   \n",
       "4     Beautiful Colonial-3020 sqft. living space and...  0.939989   489999.0   \n",
       "...                                                 ...       ...        ...   \n",
       "1921  This home sets at the beginning of a Cul-de-Sa...  0.189990   429900.0   \n",
       "1922  New home to be built. Amazing unobstructed wat...  0.079981   800000.0   \n",
       "1923  Can you say water views galore? Wake up to the...  0.079981  2700000.0   \n",
       "1924  NEW YEAR!  NEW FUTURE!    Escape NY to Connect...  0.849998  2550000.0   \n",
       "1925  One of the nicest new construction homes avail...  0.119995  1275000.0   \n",
       "\n",
       "       logAREA  logLOTSIZE   logPRICE  \n",
       "0     7.395722   -1.832669  12.319401  \n",
       "1     7.153052   -1.714902  12.323856  \n",
       "2     7.142037   -2.408049  12.323411  \n",
       "3     7.627544   -0.562129  12.821258  \n",
       "4     8.342364   -0.061887  13.102159  \n",
       "...        ...         ...        ...  \n",
       "1921  6.742881   -1.660781  12.971308  \n",
       "1922  7.783224   -2.525960  13.592367  \n",
       "1923  8.785387   -2.525960  14.808762  \n",
       "1924  8.407378   -0.162521  14.751604  \n",
       "1925  8.006368   -2.120304  14.058457  \n",
       "\n",
       "[1926 rows x 10 columns]"
      ]
     },
     "execution_count": 3,
     "metadata": {},
     "output_type": "execute_result"
    }
   ],
   "source": [
    "ct_homes['logAREA'] = np.log(ct_homes['AREA'])\n",
    "ct_homes['logLOTSIZE'] = np.log(ct_homes['LOTSIZE'])\n",
    "ct_homes['logPRICE'] = np.log(ct_homes['PRICE'])\n",
    "ct_homes"
   ]
  },
  {
   "cell_type": "markdown",
   "metadata": {},
   "source": [
    "#### 3.1 Plot the data \n",
    "\n",
    "1. Show histograms of each of the log-transformed columns.\n",
    "\n",
    "1. Our regression models will use these transformed values. Why might it be preferable to use the logarithms rather than the original data? Explain.\n"
   ]
  },
  {
   "cell_type": "markdown",
   "metadata": {},
   "source": [
    "[Your code and markdown here]"
   ]
  },
  {
   "cell_type": "markdown",
   "metadata": {},
   "source": [
    "Let's look at one of the descriptions as an example."
   ]
  },
  {
   "cell_type": "code",
   "execution_count": 5,
   "metadata": {},
   "outputs": [
    {
     "data": {
      "text/plain": [
       "\"One of Ridgefield's most admired homes, custom built with absolutely no expense spared. Stunning Stone and Clapboard New England Colonial with exceptional architectural details throughout, beautifully sited on 1.48 park-like acres. The heart of this home features an updated gourmet Kitchen with Dacor double ovens, Viking cook top and Sub Zero Refrigerator. Gorgeous Taj Mahal Quartz counters and island with Tumbled Limestone back splash. Stylish Living Room with propane fireplace and spacious Dining Room with large Butler's pantry also with quartz and tumbled marble. Handsome Cherry paneled Library and sun filled Family Room with fireplace and built-in cabinets and desk. The Upper level features a large Master Suite with custom marble bath and generous walk-in closet. Three Bedrooms are en suite; and two bedrooms share a lovely Jack n Jill Bathroom. Large, custom Laundry Room and over sized Bonus Room round out the second floor. Other convenient features include front and rear staircases, mud room with built-ins, and large pantry and utility closets. The finished Lower Level offers a second Family Room, Computer desk Stations, Game Room and fabulous temperature controlled Wine Cellar. New automatic whole house Generator and Rain Bird irrigation system are some of the special features. Close to all town with shopping, great restaurants, amazing entertainment venues and schools. Excellent NYC commute. This is one home not to be missed.\""
      ]
     },
     "execution_count": 5,
     "metadata": {},
     "output_type": "execute_result"
    }
   ],
   "source": [
    "example = 9\n",
    "ct_homes[\"DESCRIPTION\"][example]"
   ]
  },
  {
   "cell_type": "markdown",
   "metadata": {},
   "source": [
    "#### Helper functions\n",
    "\n",
    "The following two functions will be used to clean up the text a bit and separate into tokens"
   ]
  },
  {
   "cell_type": "code",
   "execution_count": 6,
   "metadata": {},
   "outputs": [],
   "source": [
    "def cleanup_description(desc):\n",
    "    if type(desc) == float:\n",
    "        desc = \"\"\n",
    "    words = [re.sub(r'[^a-z]', '', w) for w in desc.lower().split(' ')]\n",
    "    return ' '.join(words)\n",
    "\n",
    "def reduce_to_vocabulary(desc, vocab):\n",
    "    return ' '.join([w for w in cleanup_description(desc).split(' ') if w in vocab])\n"
   ]
  },
  {
   "cell_type": "code",
   "execution_count": 7,
   "metadata": {},
   "outputs": [
    {
     "data": {
      "text/plain": [
       "'one of ridgefields most admired homes custom built with absolutely no expense spared stunning stone and clapboard new england colonial with exceptional architectural details throughout beautifully sited on  parklike acres the heart of this home features an updated gourmet kitchen with dacor double ovens viking cook top and sub zero refrigerator gorgeous taj mahal quartz counters and island with tumbled limestone back splash stylish living room with propane fireplace and spacious dining room with large butlers pantry also with quartz and tumbled marble handsome cherry paneled library and sun filled family room with fireplace and builtin cabinets and desk the upper level features a large master suite with custom marble bath and generous walkin closet three bedrooms are en suite and two bedrooms share a lovely jack n jill bathroom large custom laundry room and over sized bonus room round out the second floor other convenient features include front and rear staircases mud room with builtins and large pantry and utility closets the finished lower level offers a second family room computer desk stations game room and fabulous temperature controlled wine cellar new automatic whole house generator and rain bird irrigation system are some of the special features close to all town with shopping great restaurants amazing entertainment venues and schools excellent nyc commute this is one home not to be missed'"
      ]
     },
     "execution_count": 7,
     "metadata": {},
     "output_type": "execute_result"
    }
   ],
   "source": [
    "cleanup_description(ct_homes['DESCRIPTION'][example])"
   ]
  },
  {
   "cell_type": "markdown",
   "metadata": {},
   "source": [
    "\n",
    "#### Next we build a vocabulary of words"
   ]
  },
  {
   "cell_type": "code",
   "execution_count": 8,
   "metadata": {},
   "outputs": [],
   "source": [
    "vocab = Counter()\n",
    "for dsc in ct_homes['DESCRIPTION']:\n",
    "    vocab.update(cleanup_description(dsc).split(' '))\n"
   ]
  },
  {
   "cell_type": "code",
   "execution_count": 9,
   "metadata": {},
   "outputs": [
    {
     "name": "stdout",
     "output_type": "stream",
     "text": [
      "Number of unique tokens: 9738\n"
     ]
    }
   ],
   "source": [
    "print(\"Number of unique tokens: %d\" % len(vocab))"
   ]
  },
  {
   "cell_type": "markdown",
   "metadata": {},
   "source": [
    "#### Remove words that are either too common or too rare"
   ]
  },
  {
   "cell_type": "code",
   "execution_count": 10,
   "metadata": {},
   "outputs": [
    {
     "name": "stdout",
     "output_type": "stream",
     "text": [
      "Number of unique tokens: 2540\n"
     ]
    }
   ],
   "source": [
    "vocab = Counter(token for token in vocab.elements() if vocab[token] > 5)\n",
    "stop_words = [item[0] for item in vocab.most_common(50)]\n",
    "vocab = Counter(token for token in vocab.elements() if token not in stop_words)\n",
    "print(\"Number of unique tokens: %d\" % len(vocab))"
   ]
  },
  {
   "cell_type": "markdown",
   "metadata": {},
   "source": [
    "#### Build a mapping between unique words and integers"
   ]
  },
  {
   "cell_type": "code",
   "execution_count": 11,
   "metadata": {
    "scrolled": true
   },
   "outputs": [
    {
     "name": "stdout",
     "output_type": "stream",
     "text": [
      "Original description:\n",
      "---------------------\n",
      "One of Ridgefield's most admired homes, custom built with absolutely no expense spared. Stunning Stone and Clapboard New England Colonial with exceptional architectural details throughout, beautifully sited on 1.48 park-like acres. The heart of this home features an updated gourmet Kitchen with Dacor double ovens, Viking cook top and Sub Zero Refrigerator. Gorgeous Taj Mahal Quartz counters and island with Tumbled Limestone back splash. Stylish Living Room with propane fireplace and spacious Dining Room with large Butler's pantry also with quartz and tumbled marble. Handsome Cherry paneled Library and sun filled Family Room with fireplace and built-in cabinets and desk. The Upper level features a large Master Suite with custom marble bath and generous walk-in closet. Three Bedrooms are en suite; and two bedrooms share a lovely Jack n Jill Bathroom. Large, custom Laundry Room and over sized Bonus Room round out the second floor. Other convenient features include front and rear staircases, mud room with built-ins, and large pantry and utility closets. The finished Lower Level offers a second Family Room, Computer desk Stations, Game Room and fabulous temperature controlled Wine Cellar. New automatic whole house Generator and Rain Bird irrigation system are some of the special features. Close to all town with shopping, great restaurants, amazing entertainment venues and schools. Excellent NYC commute. This is one home not to be missed.\n",
      "\n",
      "Cleaned up text:\n",
      "----------------\n",
      "one of ridgefields most admired homes custom built with absolutely no expense spared stunning stone and clapboard new england colonial with exceptional architectural details throughout beautifully sited on  parklike acres the heart of this home features an updated gourmet kitchen with dacor double ovens viking cook top and sub zero refrigerator gorgeous taj mahal quartz counters and island with tumbled limestone back splash stylish living room with propane fireplace and spacious dining room with large butlers pantry also with quartz and tumbled marble handsome cherry paneled library and sun filled family room with fireplace and builtin cabinets and desk the upper level features a large master suite with custom marble bath and generous walkin closet three bedrooms are en suite and two bedrooms share a lovely jack n jill bathroom large custom laundry room and over sized bonus room round out the second floor other convenient features include front and rear staircases mud room with builtins and large pantry and utility closets the finished lower level offers a second family room computer desk stations game room and fabulous temperature controlled wine cellar new automatic whole house generator and rain bird irrigation system are some of the special features close to all town with shopping great restaurants amazing entertainment venues and schools excellent nyc commute this is one home not to be missed\n",
      "\n",
      "Reduced to vocabulary:\n",
      "----------------------\n",
      "one most homes custom built absolutely no expense spared stunning stone clapboard england colonial exceptional architectural details throughout beautifully sited parklike acres heart updated gourmet dacor double ovens viking cook top sub refrigerator gorgeous quartz counters island limestone back splash stylish propane spacious butlers pantry also quartz marble handsome cherry paneled library sun filled builtin cabinets desk upper suite custom marble generous walkin closet three are en suite two share lovely jack n jill bathroom custom laundry over sized bonus round out second other convenient include front rear staircases mud builtins pantry utility closets finished lower second desk stations game fabulous controlled wine cellar automatic whole generator rain bird irrigation system are some special close town shopping restaurants amazing entertainment schools excellent nyc commute one not missed\n"
     ]
    }
   ],
   "source": [
    "desc = ct_homes['DESCRIPTION'][example]\n",
    "print('Original description:\\n---------------------')\n",
    "print(desc)\n",
    "\n",
    "print('\\nCleaned up text:\\n----------------')\n",
    "print(cleanup_description(desc))\n",
    "\n",
    "print('\\nReduced to vocabulary:\\n----------------------')\n",
    "print(reduce_to_vocabulary(desc, vocab))"
   ]
  },
  {
   "cell_type": "markdown",
   "metadata": {},
   "source": [
    "#### Build a mapping between unique words and integers"
   ]
  },
  {
   "cell_type": "code",
   "execution_count": 12,
   "metadata": {},
   "outputs": [
    {
     "name": "stdout",
     "output_type": "stream",
     "text": [
      "Number of tokens mapped: 2540\n",
      "Identifier for 'nyc': 477\n",
      "Word for identifier 477: nyc\n"
     ]
    }
   ],
   "source": [
    "id2word = {idx: pair[0] for idx, pair in enumerate(vocab.items())}\n",
    "word2id = {pair[0]: idx for idx, pair in enumerate(vocab.items())}\n",
    "\n",
    "s = 'nyc'\n",
    "print(\"Number of tokens mapped: %d\" % len(id2word))\n",
    "print(\"Identifier for '%s': %d\" % (s,word2id[s]))\n",
    "print(\"Word for identifier %d: %s\" % (word2id[s], id2word[word2id[s]]))"
   ]
  },
  {
   "cell_type": "markdown",
   "metadata": {},
   "source": [
    "#### Map to word id format\n",
    "\n",
    "Now, use the format required to build a language model, mapping each word to its id, "
   ]
  },
  {
   "cell_type": "code",
   "execution_count": 13,
   "metadata": {},
   "outputs": [],
   "source": [
    "tokens = []\n",
    "for dsc in ct_homes['DESCRIPTION']:\n",
    "    clean = reduce_to_vocabulary(cleanup_description(dsc), vocab)\n",
    "    toks = clean.split(' ')\n",
    "    tokens.append(toks)"
   ]
  },
  {
   "cell_type": "code",
   "execution_count": 14,
   "metadata": {},
   "outputs": [
    {
     "name": "stdout",
     "output_type": "stream",
     "text": [
      "Abstract, tokenized:\n",
      " ['one', 'most', 'homes', 'custom', 'built', 'absolutely', 'no', 'expense', 'spared', 'stunning', 'stone', 'clapboard', 'england', 'colonial', 'exceptional', 'architectural', 'details', 'throughout', 'beautifully', 'sited', 'parklike', 'acres', 'heart', 'updated', 'gourmet', 'dacor', 'double', 'ovens', 'viking', 'cook', 'top', 'sub', 'refrigerator', 'gorgeous', 'quartz', 'counters', 'island', 'limestone', 'back', 'splash', 'stylish', 'propane', 'spacious', 'butlers', 'pantry', 'also', 'quartz', 'marble', 'handsome', 'cherry', 'paneled', 'library', 'sun', 'filled', 'builtin', 'cabinets', 'desk', 'upper', 'suite', 'custom', 'marble', 'generous', 'walkin', 'closet', 'three', 'are', 'en', 'suite', 'two', 'share', 'lovely', 'jack', 'n', 'jill', 'bathroom', 'custom', 'laundry', 'over', 'sized', 'bonus', 'round', 'out', 'second', 'other', 'convenient', 'include', 'front', 'rear', 'staircases', 'mud', 'builtins', 'pantry', 'utility', 'closets', 'finished', 'lower', 'second', 'desk', 'stations', 'game', 'fabulous', 'controlled', 'wine', 'cellar', 'automatic', 'whole', 'generator', 'rain', 'bird', 'irrigation', 'system', 'are', 'some', 'special', 'close', 'town', 'shopping', 'restaurants', 'amazing', 'entertainment', 'schools', 'excellent', 'nyc', 'commute', 'one', 'not', 'missed'] \n",
      "\n",
      "Abstract, in corpus format:\n",
      " [(481, 1), (79, 1), (386, 2), (155, 1), (399, 1), (482, 1), (483, 1), (326, 1), (484, 1), (115, 1), (485, 1), (141, 2), (486, 1), (46, 1), (304, 1), (487, 1), (488, 1), (41, 2), (489, 1), (490, 1), (491, 1), (492, 1), (325, 1), (493, 1), (494, 1), (350, 1), (495, 1), (496, 1), (345, 2), (497, 1), (498, 1), (499, 1), (77, 1), (500, 2), (501, 2), (502, 1), (503, 1), (25, 1), (50, 1), (51, 1), (504, 1), (380, 1), (153, 1), (252, 1), (78, 1)]\n"
     ]
    }
   ],
   "source": [
    "corpus = []\n",
    "for toks in tokens:\n",
    "    tkn_count = Counter(toks)\n",
    "    corpus.append([(word2id[item[0]], item[1]) for item in tkn_count.items()])\n",
    "    \n",
    "dsc = ct_homes['DESCRIPTION'][example]\n",
    "clean = reduce_to_vocabulary(cleanup_description(dsc), vocab)\n",
    "toks = clean.split(' ')\n",
    "print(\"Abstract, tokenized:\\n\", toks, \"\\n\")\n",
    "print(\"Abstract, in corpus format:\\n\", corpus[10])"
   ]
  },
  {
   "cell_type": "markdown",
   "metadata": {},
   "source": [
    "#### Build a Topic Model with 10 topics\n",
    "\n",
    "Note: Don't worry about the various settings used in the call to `LdaModel`. If you want to read up on these, just check out the documentation. \n"
   ]
  },
  {
   "cell_type": "code",
   "execution_count": 15,
   "metadata": {
    "scrolled": true
   },
   "outputs": [
    {
     "name": "stdout",
     "output_type": "stream",
     "text": [
      "CPU times: user 5.73 s, sys: 31.2 ms, total: 5.76 s\n",
      "Wall time: 5.79 s\n"
     ]
    }
   ],
   "source": [
    "%%time\n",
    "tm = gensim.models.ldamodel.LdaModel(corpus=corpus,\n",
    "                                     id2word=id2word,\n",
    "                                     num_topics=10, \n",
    "                                     random_state=100,\n",
    "                                     chunksize=100,\n",
    "                                     passes=10,\n",
    "                                     alpha='auto',\n",
    "                                     per_word_topics=True)"
   ]
  },
  {
   "cell_type": "code",
   "execution_count": 16,
   "metadata": {},
   "outputs": [
    {
     "data": {
      "text/html": [
       "<div>\n",
       "<style scoped>\n",
       "    .dataframe tbody tr th:only-of-type {\n",
       "        vertical-align: middle;\n",
       "    }\n",
       "\n",
       "    .dataframe tbody tr th {\n",
       "        vertical-align: top;\n",
       "    }\n",
       "\n",
       "    .dataframe thead th {\n",
       "        text-align: right;\n",
       "    }\n",
       "</style>\n",
       "<table border=\"1\" class=\"dataframe\">\n",
       "  <thead>\n",
       "    <tr style=\"text-align: right;\">\n",
       "      <th></th>\n",
       "      <th>word rank</th>\n",
       "      <th>topic 0</th>\n",
       "      <th>topic 1</th>\n",
       "      <th>topic 2</th>\n",
       "      <th>topic 3</th>\n",
       "      <th>topic 4</th>\n",
       "      <th>topic 5</th>\n",
       "      <th>topic 6</th>\n",
       "      <th>topic 7</th>\n",
       "      <th>topic 8</th>\n",
       "      <th>topic 9</th>\n",
       "    </tr>\n",
       "  </thead>\n",
       "  <tbody>\n",
       "    <tr>\n",
       "      <th>0</th>\n",
       "      <td>1</td>\n",
       "      <td>create</td>\n",
       "      <td>property</td>\n",
       "      <td>spacious</td>\n",
       "      <td>waterfront</td>\n",
       "      <td>north</td>\n",
       "      <td>will</td>\n",
       "      <td>beach</td>\n",
       "      <td>guests</td>\n",
       "      <td>farm</td>\n",
       "      <td>custom</td>\n",
       "    </tr>\n",
       "    <tr>\n",
       "      <th>1</th>\n",
       "      <td>2</td>\n",
       "      <td>architect</td>\n",
       "      <td>it</td>\n",
       "      <td>additional</td>\n",
       "      <td>ft</td>\n",
       "      <td>boasts</td>\n",
       "      <td>roof</td>\n",
       "      <td>water</td>\n",
       "      <td>solar</td>\n",
       "      <td>farmhouse</td>\n",
       "      <td>suite</td>\n",
       "    </tr>\n",
       "    <tr>\n",
       "      <th>2</th>\n",
       "      <td>3</td>\n",
       "      <td>premier</td>\n",
       "      <td>own</td>\n",
       "      <td>main</td>\n",
       "      <td>sq</td>\n",
       "      <td>provides</td>\n",
       "      <td>well</td>\n",
       "      <td>sound</td>\n",
       "      <td>panels</td>\n",
       "      <td>antique</td>\n",
       "      <td>island</td>\n",
       "    </tr>\n",
       "    <tr>\n",
       "      <th>3</th>\n",
       "      <td>4</td>\n",
       "      <td>indoor</td>\n",
       "      <td>location</td>\n",
       "      <td>perfect</td>\n",
       "      <td>milford</td>\n",
       "      <td>state</td>\n",
       "      <td>have</td>\n",
       "      <td>views</td>\n",
       "      <td>rock</td>\n",
       "      <td>cheshire</td>\n",
       "      <td>by</td>\n",
       "    </tr>\n",
       "    <tr>\n",
       "      <th>4</th>\n",
       "      <td>5</td>\n",
       "      <td>shaker</td>\n",
       "      <td>at</td>\n",
       "      <td>bathroom</td>\n",
       "      <td>unique</td>\n",
       "      <td>morning</td>\n",
       "      <td>newer</td>\n",
       "      <td>long</td>\n",
       "      <td>metro</td>\n",
       "      <td>trees</td>\n",
       "      <td>pool</td>\n",
       "    </tr>\n",
       "    <tr>\n",
       "      <th>5</th>\n",
       "      <td>6</td>\n",
       "      <td>kayaks</td>\n",
       "      <td>can</td>\n",
       "      <td>two</td>\n",
       "      <td>built</td>\n",
       "      <td>fire</td>\n",
       "      <td>one</td>\n",
       "      <td>miles</td>\n",
       "      <td>salt</td>\n",
       "      <td>better</td>\n",
       "      <td>views</td>\n",
       "    </tr>\n",
       "    <tr>\n",
       "      <th>6</th>\n",
       "      <td>7</td>\n",
       "      <td>acreage</td>\n",
       "      <td>opportunity</td>\n",
       "      <td>lower</td>\n",
       "      <td>construction</td>\n",
       "      <td>many</td>\n",
       "      <td>water</td>\n",
       "      <td>post</td>\n",
       "      <td>masterpiece</td>\n",
       "      <td>association</td>\n",
       "      <td>stone</td>\n",
       "    </tr>\n",
       "    <tr>\n",
       "      <th>7</th>\n",
       "      <td>8</td>\n",
       "      <td>restored</td>\n",
       "      <td>close</td>\n",
       "      <td>finished</td>\n",
       "      <td>if</td>\n",
       "      <td>garden</td>\n",
       "      <td>been</td>\n",
       "      <td>steps</td>\n",
       "      <td>energy</td>\n",
       "      <td>chestnut</td>\n",
       "      <td>built</td>\n",
       "    </tr>\n",
       "    <tr>\n",
       "      <th>8</th>\n",
       "      <td>9</td>\n",
       "      <td>beginning</td>\n",
       "      <td>town</td>\n",
       "      <td>throughout</td>\n",
       "      <td>yale</td>\n",
       "      <td>work</td>\n",
       "      <td>by</td>\n",
       "      <td>directly</td>\n",
       "      <td>amp</td>\n",
       "      <td>original</td>\n",
       "      <td>ceilings</td>\n",
       "    </tr>\n",
       "    <tr>\n",
       "      <th>9</th>\n",
       "      <td>10</td>\n",
       "      <td>ny</td>\n",
       "      <td>come</td>\n",
       "      <td>beautiful</td>\n",
       "      <td>barn</td>\n",
       "      <td>coffee</td>\n",
       "      <td>ranch</td>\n",
       "      <td>across</td>\n",
       "      <td>service</td>\n",
       "      <td>historic</td>\n",
       "      <td>stunning</td>\n",
       "    </tr>\n",
       "    <tr>\n",
       "      <th>10</th>\n",
       "      <td>11</td>\n",
       "      <td>coveted</td>\n",
       "      <td>train</td>\n",
       "      <td>car</td>\n",
       "      <td>yet</td>\n",
       "      <td>allows</td>\n",
       "      <td>out</td>\n",
       "      <td>sunsets</td>\n",
       "      <td>cars</td>\n",
       "      <td>converted</td>\n",
       "      <td>doors</td>\n",
       "    </tr>\n",
       "    <tr>\n",
       "      <th>11</th>\n",
       "      <td>12</td>\n",
       "      <td>landscape</td>\n",
       "      <td>shopping</td>\n",
       "      <td>first</td>\n",
       "      <td>build</td>\n",
       "      <td>original</td>\n",
       "      <td>windows</td>\n",
       "      <td>experience</td>\n",
       "      <td>accommodate</td>\n",
       "      <td>elements</td>\n",
       "      <td>high</td>\n",
       "    </tr>\n",
       "    <tr>\n",
       "      <th>12</th>\n",
       "      <td>13</td>\n",
       "      <td>stained</td>\n",
       "      <td>only</td>\n",
       "      <td>walk</td>\n",
       "      <td>road</td>\n",
       "      <td>sits</td>\n",
       "      <td>basement</td>\n",
       "      <td>skylight</td>\n",
       "      <td>shelving</td>\n",
       "      <td>grade</td>\n",
       "      <td>ceiling</td>\n",
       "    </tr>\n",
       "    <tr>\n",
       "      <th>13</th>\n",
       "      <td>14</td>\n",
       "      <td>gateway</td>\n",
       "      <td>minutes</td>\n",
       "      <td>storage</td>\n",
       "      <td>harbor</td>\n",
       "      <td>charm</td>\n",
       "      <td>owner</td>\n",
       "      <td>unobstructed</td>\n",
       "      <td>paradise</td>\n",
       "      <td>taken</td>\n",
       "      <td>w</td>\n",
       "    </tr>\n",
       "    <tr>\n",
       "      <th>14</th>\n",
       "      <td>15</td>\n",
       "      <td>kayak</td>\n",
       "      <td>located</td>\n",
       "      <td>granite</td>\n",
       "      <td>few</td>\n",
       "      <td>warm</td>\n",
       "      <td>yard</td>\n",
       "      <td>consists</td>\n",
       "      <td>moving</td>\n",
       "      <td>vintage</td>\n",
       "      <td>homes</td>\n",
       "    </tr>\n",
       "  </tbody>\n",
       "</table>\n",
       "</div>"
      ],
      "text/plain": [
       "    word rank    topic 0      topic 1     topic 2       topic 3   topic 4  \\\n",
       "0           1     create     property    spacious    waterfront     north   \n",
       "1           2  architect           it  additional            ft    boasts   \n",
       "2           3    premier          own        main            sq  provides   \n",
       "3           4     indoor     location     perfect       milford     state   \n",
       "4           5     shaker           at    bathroom        unique   morning   \n",
       "5           6     kayaks          can         two         built      fire   \n",
       "6           7    acreage  opportunity       lower  construction      many   \n",
       "7           8   restored        close    finished            if    garden   \n",
       "8           9  beginning         town  throughout          yale      work   \n",
       "9          10         ny         come   beautiful          barn    coffee   \n",
       "10         11    coveted        train         car           yet    allows   \n",
       "11         12  landscape     shopping       first         build  original   \n",
       "12         13    stained         only        walk          road      sits   \n",
       "13         14    gateway      minutes     storage        harbor     charm   \n",
       "14         15      kayak      located     granite           few      warm   \n",
       "\n",
       "     topic 5       topic 6      topic 7      topic 8   topic 9  \n",
       "0       will         beach       guests         farm    custom  \n",
       "1       roof         water        solar    farmhouse     suite  \n",
       "2       well         sound       panels      antique    island  \n",
       "3       have         views         rock     cheshire        by  \n",
       "4      newer          long        metro        trees      pool  \n",
       "5        one         miles         salt       better     views  \n",
       "6      water          post  masterpiece  association     stone  \n",
       "7       been         steps       energy     chestnut     built  \n",
       "8         by      directly          amp     original  ceilings  \n",
       "9      ranch        across      service     historic  stunning  \n",
       "10       out       sunsets         cars    converted     doors  \n",
       "11   windows    experience  accommodate     elements      high  \n",
       "12  basement      skylight     shelving        grade   ceiling  \n",
       "13     owner  unobstructed     paradise        taken         w  \n",
       "14      yard      consists       moving      vintage     homes  "
      ]
     },
     "execution_count": 16,
     "metadata": {},
     "output_type": "execute_result"
    }
   ],
   "source": [
    "num_topics = 10\n",
    "num_words = 15\n",
    "top_words = pd.DataFrame({'word rank': np.arange(1,num_words+1)})\n",
    "for k in np.arange(num_topics): \n",
    "    topic = tm.get_topic_terms(k, num_words)\n",
    "    words = [id2word[topic[i][0]] for i in np.arange(num_words)]\n",
    "    probs = [topic[i][1] for i in np.arange(num_words)]\n",
    "    top_words['topic %d' % k] = words\n",
    "\n",
    "top_words"
   ]
  },
  {
   "cell_type": "code",
   "execution_count": 17,
   "metadata": {},
   "outputs": [
    {
     "data": {
      "text/html": [
       "<div>\n",
       "<style scoped>\n",
       "    .dataframe tbody tr th:only-of-type {\n",
       "        vertical-align: middle;\n",
       "    }\n",
       "\n",
       "    .dataframe tbody tr th {\n",
       "        vertical-align: top;\n",
       "    }\n",
       "\n",
       "    .dataframe thead th {\n",
       "        text-align: right;\n",
       "    }\n",
       "</style>\n",
       "<table border=\"1\" class=\"dataframe\">\n",
       "  <thead>\n",
       "    <tr style=\"text-align: right;\">\n",
       "      <th></th>\n",
       "      <th>Topic</th>\n",
       "      <th>Probabilities</th>\n",
       "    </tr>\n",
       "  </thead>\n",
       "  <tbody>\n",
       "    <tr>\n",
       "      <th>0</th>\n",
       "      <td>1</td>\n",
       "      <td>0.044947</td>\n",
       "    </tr>\n",
       "    <tr>\n",
       "      <th>1</th>\n",
       "      <td>2</td>\n",
       "      <td>0.308954</td>\n",
       "    </tr>\n",
       "    <tr>\n",
       "      <th>2</th>\n",
       "      <td>3</td>\n",
       "      <td>0.013631</td>\n",
       "    </tr>\n",
       "    <tr>\n",
       "      <th>3</th>\n",
       "      <td>4</td>\n",
       "      <td>0.014789</td>\n",
       "    </tr>\n",
       "    <tr>\n",
       "      <th>4</th>\n",
       "      <td>5</td>\n",
       "      <td>0.034339</td>\n",
       "    </tr>\n",
       "    <tr>\n",
       "      <th>5</th>\n",
       "      <td>9</td>\n",
       "      <td>0.568488</td>\n",
       "    </tr>\n",
       "  </tbody>\n",
       "</table>\n",
       "</div>"
      ],
      "text/plain": [
       "   Topic  Probabilities\n",
       "0      1       0.044947\n",
       "1      2       0.308954\n",
       "2      3       0.013631\n",
       "3      4       0.014789\n",
       "4      5       0.034339\n",
       "5      9       0.568488"
      ]
     },
     "execution_count": 17,
     "metadata": {},
     "output_type": "execute_result"
    }
   ],
   "source": [
    "topic_dist = tm.get_document_topics(corpus[example])\n",
    "topics = [pair[0] for pair in topic_dist]\n",
    "probabilities = [pair[1] for pair in topic_dist]\n",
    "topic_dist_table = pd.DataFrame()\n",
    "topic_dist_table['Topic'] = topics\n",
    "topic_dist_table['Probabilities'] = probabilities\n",
    "topic_dist_table"
   ]
  },
  {
   "cell_type": "code",
   "execution_count": 18,
   "metadata": {},
   "outputs": [
    {
     "data": {
      "image/png": "[encoded data removed]",
      "text/plain": [
       "<Figure size 792x288 with 1 Axes>"
      ]
     },
     "metadata": {
      "needs_background": "light"
     },
     "output_type": "display_data"
    }
   ],
   "source": [
    "import matplotlib.pyplot as plt\n",
    "%matplotlib inline\n",
    "\n",
    "fig = plt.figure()\n",
    "fig.set_size_inches(11,4)\n",
    "plt.bar(topic_dist_table['Topic'], topic_dist_table['Probabilities'], align='center', alpha=1, color='salmon')\n",
    "plt.xlabel('topic')\n",
    "plt.ylabel('probability')\n",
    "plt.title('Per Topic Probability Distribution')\n",
    "plt.show()"
   ]
  },
  {
   "cell_type": "markdown",
   "metadata": {},
   "source": [
    "### Include the topic proportions $\\theta_d$ for each house \n"
   ]
  },
  {
   "cell_type": "code",
   "execution_count": 19,
   "metadata": {},
   "outputs": [],
   "source": [
    "num_topics = 10\n",
    "theta = pd.DataFrame({\"Theta0\": np.zeros(ct_homes.shape[0])})\n",
    "for t in np.arange(1,num_topics):\n",
    "    theta[\"Theta\"+str(t)] = np.zeros(ct_homes.shape[0])\n",
    "    \n",
    "for i in np.arange(ct_homes.shape[0]):\n",
    "    for t in tm.get_document_topics(corpus[i]):\n",
    "        theta.loc[i,\"Theta\"+str(t[0])] = t[1]"
   ]
  },
  {
   "cell_type": "code",
   "execution_count": 20,
   "metadata": {},
   "outputs": [
    {
     "data": {
      "text/html": [
       "<div>\n",
       "<style scoped>\n",
       "    .dataframe tbody tr th:only-of-type {\n",
       "        vertical-align: middle;\n",
       "    }\n",
       "\n",
       "    .dataframe tbody tr th {\n",
       "        vertical-align: top;\n",
       "    }\n",
       "\n",
       "    .dataframe thead th {\n",
       "        text-align: right;\n",
       "    }\n",
       "</style>\n",
       "<table border=\"1\" class=\"dataframe\">\n",
       "  <thead>\n",
       "    <tr style=\"text-align: right;\">\n",
       "      <th></th>\n",
       "      <th>AREA</th>\n",
       "      <th>BED</th>\n",
       "      <th>BATH</th>\n",
       "      <th>BUILT</th>\n",
       "      <th>DESCRIPTION</th>\n",
       "      <th>LOTSIZE</th>\n",
       "      <th>PRICE</th>\n",
       "      <th>logAREA</th>\n",
       "      <th>logLOTSIZE</th>\n",
       "      <th>logPRICE</th>\n",
       "      <th>Theta0</th>\n",
       "      <th>Theta1</th>\n",
       "      <th>Theta2</th>\n",
       "      <th>Theta3</th>\n",
       "      <th>Theta4</th>\n",
       "      <th>Theta5</th>\n",
       "      <th>Theta6</th>\n",
       "      <th>Theta7</th>\n",
       "      <th>Theta8</th>\n",
       "      <th>Theta9</th>\n",
       "    </tr>\n",
       "  </thead>\n",
       "  <tbody>\n",
       "    <tr>\n",
       "      <th>0</th>\n",
       "      <td>1629.0</td>\n",
       "      <td>2.0</td>\n",
       "      <td>2.0</td>\n",
       "      <td>1889.0</td>\n",
       "      <td>Welcome home! Charming &amp; well kept, this 2 bed...</td>\n",
       "      <td>0.159986</td>\n",
       "      <td>224000.0</td>\n",
       "      <td>7.395722</td>\n",
       "      <td>-1.832669</td>\n",
       "      <td>12.319401</td>\n",
       "      <td>0.000000</td>\n",
       "      <td>0.217733</td>\n",
       "      <td>0.307562</td>\n",
       "      <td>0.013004</td>\n",
       "      <td>0.015983</td>\n",
       "      <td>0.276442</td>\n",
       "      <td>0.000000</td>\n",
       "      <td>0.068734</td>\n",
       "      <td>0.0</td>\n",
       "      <td>0.090220</td>\n",
       "    </tr>\n",
       "    <tr>\n",
       "      <th>1</th>\n",
       "      <td>1278.0</td>\n",
       "      <td>3.0</td>\n",
       "      <td>2.0</td>\n",
       "      <td>1900.0</td>\n",
       "      <td>This adorable cape has a lot to offer.  You st...</td>\n",
       "      <td>0.179981</td>\n",
       "      <td>225000.0</td>\n",
       "      <td>7.153052</td>\n",
       "      <td>-1.714902</td>\n",
       "      <td>12.323856</td>\n",
       "      <td>0.058219</td>\n",
       "      <td>0.071380</td>\n",
       "      <td>0.402322</td>\n",
       "      <td>0.012686</td>\n",
       "      <td>0.015575</td>\n",
       "      <td>0.241167</td>\n",
       "      <td>0.000000</td>\n",
       "      <td>0.132528</td>\n",
       "      <td>0.0</td>\n",
       "      <td>0.056359</td>\n",
       "    </tr>\n",
       "    <tr>\n",
       "      <th>2</th>\n",
       "      <td>1264.0</td>\n",
       "      <td>3.0</td>\n",
       "      <td>2.0</td>\n",
       "      <td>1988.0</td>\n",
       "      <td>This 1264 sqft Colonial with its 3 bedrooms an...</td>\n",
       "      <td>0.089991</td>\n",
       "      <td>224900.0</td>\n",
       "      <td>7.142037</td>\n",
       "      <td>-2.408049</td>\n",
       "      <td>12.323411</td>\n",
       "      <td>0.000000</td>\n",
       "      <td>0.585883</td>\n",
       "      <td>0.156176</td>\n",
       "      <td>0.010631</td>\n",
       "      <td>0.016617</td>\n",
       "      <td>0.139862</td>\n",
       "      <td>0.033774</td>\n",
       "      <td>0.019388</td>\n",
       "      <td>0.0</td>\n",
       "      <td>0.030921</td>\n",
       "    </tr>\n",
       "    <tr>\n",
       "      <th>3</th>\n",
       "      <td>2054.0</td>\n",
       "      <td>3.0</td>\n",
       "      <td>3.0</td>\n",
       "      <td>1960.0</td>\n",
       "      <td>The perfect oversized ranch awaits you at 7 No...</td>\n",
       "      <td>0.569994</td>\n",
       "      <td>370000.0</td>\n",
       "      <td>7.627544</td>\n",
       "      <td>-0.562129</td>\n",
       "      <td>12.821258</td>\n",
       "      <td>0.018890</td>\n",
       "      <td>0.024961</td>\n",
       "      <td>0.828650</td>\n",
       "      <td>0.000000</td>\n",
       "      <td>0.010880</td>\n",
       "      <td>0.073783</td>\n",
       "      <td>0.000000</td>\n",
       "      <td>0.000000</td>\n",
       "      <td>0.0</td>\n",
       "      <td>0.030548</td>\n",
       "    </tr>\n",
       "    <tr>\n",
       "      <th>4</th>\n",
       "      <td>4198.0</td>\n",
       "      <td>5.0</td>\n",
       "      <td>3.0</td>\n",
       "      <td>1972.0</td>\n",
       "      <td>Beautiful Colonial-3020 sqft. living space and...</td>\n",
       "      <td>0.939989</td>\n",
       "      <td>489999.0</td>\n",
       "      <td>8.342364</td>\n",
       "      <td>-0.061887</td>\n",
       "      <td>13.102159</td>\n",
       "      <td>0.000000</td>\n",
       "      <td>0.066090</td>\n",
       "      <td>0.488583</td>\n",
       "      <td>0.000000</td>\n",
       "      <td>0.036448</td>\n",
       "      <td>0.311833</td>\n",
       "      <td>0.000000</td>\n",
       "      <td>0.000000</td>\n",
       "      <td>0.0</td>\n",
       "      <td>0.076273</td>\n",
       "    </tr>\n",
       "    <tr>\n",
       "      <th>...</th>\n",
       "      <td>...</td>\n",
       "      <td>...</td>\n",
       "      <td>...</td>\n",
       "      <td>...</td>\n",
       "      <td>...</td>\n",
       "      <td>...</td>\n",
       "      <td>...</td>\n",
       "      <td>...</td>\n",
       "      <td>...</td>\n",
       "      <td>...</td>\n",
       "      <td>...</td>\n",
       "      <td>...</td>\n",
       "      <td>...</td>\n",
       "      <td>...</td>\n",
       "      <td>...</td>\n",
       "      <td>...</td>\n",
       "      <td>...</td>\n",
       "      <td>...</td>\n",
       "      <td>...</td>\n",
       "      <td>...</td>\n",
       "    </tr>\n",
       "    <tr>\n",
       "      <th>1921</th>\n",
       "      <td>848.0</td>\n",
       "      <td>3.0</td>\n",
       "      <td>2.0</td>\n",
       "      <td>1948.0</td>\n",
       "      <td>This home sets at the beginning of a Cul-de-Sa...</td>\n",
       "      <td>0.189990</td>\n",
       "      <td>429900.0</td>\n",
       "      <td>6.742881</td>\n",
       "      <td>-1.660781</td>\n",
       "      <td>12.971308</td>\n",
       "      <td>0.019154</td>\n",
       "      <td>0.141276</td>\n",
       "      <td>0.446501</td>\n",
       "      <td>0.026240</td>\n",
       "      <td>0.028841</td>\n",
       "      <td>0.262198</td>\n",
       "      <td>0.000000</td>\n",
       "      <td>0.018545</td>\n",
       "      <td>0.0</td>\n",
       "      <td>0.048959</td>\n",
       "    </tr>\n",
       "    <tr>\n",
       "      <th>1922</th>\n",
       "      <td>2400.0</td>\n",
       "      <td>4.0</td>\n",
       "      <td>4.0</td>\n",
       "      <td>2021.0</td>\n",
       "      <td>New home to be built. Amazing unobstructed wat...</td>\n",
       "      <td>0.079981</td>\n",
       "      <td>800000.0</td>\n",
       "      <td>7.783224</td>\n",
       "      <td>-2.525960</td>\n",
       "      <td>13.592367</td>\n",
       "      <td>0.025282</td>\n",
       "      <td>0.041325</td>\n",
       "      <td>0.539177</td>\n",
       "      <td>0.015924</td>\n",
       "      <td>0.059542</td>\n",
       "      <td>0.115156</td>\n",
       "      <td>0.075165</td>\n",
       "      <td>0.000000</td>\n",
       "      <td>0.0</td>\n",
       "      <td>0.118586</td>\n",
       "    </tr>\n",
       "    <tr>\n",
       "      <th>1923</th>\n",
       "      <td>6538.0</td>\n",
       "      <td>7.0</td>\n",
       "      <td>7.0</td>\n",
       "      <td>2002.0</td>\n",
       "      <td>Can you say water views galore? Wake up to the...</td>\n",
       "      <td>0.079981</td>\n",
       "      <td>2700000.0</td>\n",
       "      <td>8.785387</td>\n",
       "      <td>-2.525960</td>\n",
       "      <td>14.808762</td>\n",
       "      <td>0.000000</td>\n",
       "      <td>0.273469</td>\n",
       "      <td>0.136182</td>\n",
       "      <td>0.102196</td>\n",
       "      <td>0.023975</td>\n",
       "      <td>0.144643</td>\n",
       "      <td>0.098131</td>\n",
       "      <td>0.000000</td>\n",
       "      <td>0.0</td>\n",
       "      <td>0.212532</td>\n",
       "    </tr>\n",
       "    <tr>\n",
       "      <th>1924</th>\n",
       "      <td>4480.0</td>\n",
       "      <td>5.0</td>\n",
       "      <td>5.0</td>\n",
       "      <td>1890.0</td>\n",
       "      <td>NEW YEAR!  NEW FUTURE!    Escape NY to Connect...</td>\n",
       "      <td>0.849998</td>\n",
       "      <td>2550000.0</td>\n",
       "      <td>8.407378</td>\n",
       "      <td>-0.162521</td>\n",
       "      <td>14.751604</td>\n",
       "      <td>0.012756</td>\n",
       "      <td>0.360857</td>\n",
       "      <td>0.187796</td>\n",
       "      <td>0.103611</td>\n",
       "      <td>0.023432</td>\n",
       "      <td>0.108214</td>\n",
       "      <td>0.016014</td>\n",
       "      <td>0.012044</td>\n",
       "      <td>0.0</td>\n",
       "      <td>0.172680</td>\n",
       "    </tr>\n",
       "    <tr>\n",
       "      <th>1925</th>\n",
       "      <td>3000.0</td>\n",
       "      <td>4.0</td>\n",
       "      <td>3.0</td>\n",
       "      <td>2020.0</td>\n",
       "      <td>One of the nicest new construction homes avail...</td>\n",
       "      <td>0.119995</td>\n",
       "      <td>1275000.0</td>\n",
       "      <td>8.006368</td>\n",
       "      <td>-2.120304</td>\n",
       "      <td>14.058457</td>\n",
       "      <td>0.013451</td>\n",
       "      <td>0.153949</td>\n",
       "      <td>0.107738</td>\n",
       "      <td>0.044302</td>\n",
       "      <td>0.098415</td>\n",
       "      <td>0.138672</td>\n",
       "      <td>0.078541</td>\n",
       "      <td>0.000000</td>\n",
       "      <td>0.0</td>\n",
       "      <td>0.359692</td>\n",
       "    </tr>\n",
       "  </tbody>\n",
       "</table>\n",
       "<p>1926 rows × 20 columns</p>\n",
       "</div>"
      ],
      "text/plain": [
       "        AREA  BED  BATH   BUILT  \\\n",
       "0     1629.0  2.0   2.0  1889.0   \n",
       "1     1278.0  3.0   2.0  1900.0   \n",
       "2     1264.0  3.0   2.0  1988.0   \n",
       "3     2054.0  3.0   3.0  1960.0   \n",
       "4     4198.0  5.0   3.0  1972.0   \n",
       "...      ...  ...   ...     ...   \n",
       "1921   848.0  3.0   2.0  1948.0   \n",
       "1922  2400.0  4.0   4.0  2021.0   \n",
       "1923  6538.0  7.0   7.0  2002.0   \n",
       "1924  4480.0  5.0   5.0  1890.0   \n",
       "1925  3000.0  4.0   3.0  2020.0   \n",
       "\n",
       "                                            DESCRIPTION   LOTSIZE      PRICE  \\\n",
       "0     Welcome home! Charming & well kept, this 2 bed...  0.159986   224000.0   \n",
       "1     This adorable cape has a lot to offer.  You st...  0.179981   225000.0   \n",
       "2     This 1264 sqft Colonial with its 3 bedrooms an...  0.089991   224900.0   \n",
       "3     The perfect oversized ranch awaits you at 7 No...  0.569994   370000.0   \n",
       "4     Beautiful Colonial-3020 sqft. living space and...  0.939989   489999.0   \n",
       "...                                                 ...       ...        ...   \n",
       "1921  This home sets at the beginning of a Cul-de-Sa...  0.189990   429900.0   \n",
       "1922  New home to be built. Amazing unobstructed wat...  0.079981   800000.0   \n",
       "1923  Can you say water views galore? Wake up to the...  0.079981  2700000.0   \n",
       "1924  NEW YEAR!  NEW FUTURE!    Escape NY to Connect...  0.849998  2550000.0   \n",
       "1925  One of the nicest new construction homes avail...  0.119995  1275000.0   \n",
       "\n",
       "       logAREA  logLOTSIZE   logPRICE    Theta0    Theta1    Theta2    Theta3  \\\n",
       "0     7.395722   -1.832669  12.319401  0.000000  0.217733  0.307562  0.013004   \n",
       "1     7.153052   -1.714902  12.323856  0.058219  0.071380  0.402322  0.012686   \n",
       "2     7.142037   -2.408049  12.323411  0.000000  0.585883  0.156176  0.010631   \n",
       "3     7.627544   -0.562129  12.821258  0.018890  0.024961  0.828650  0.000000   \n",
       "4     8.342364   -0.061887  13.102159  0.000000  0.066090  0.488583  0.000000   \n",
       "...        ...         ...        ...       ...       ...       ...       ...   \n",
       "1921  6.742881   -1.660781  12.971308  0.019154  0.141276  0.446501  0.026240   \n",
       "1922  7.783224   -2.525960  13.592367  0.025282  0.041325  0.539177  0.015924   \n",
       "1923  8.785387   -2.525960  14.808762  0.000000  0.273469  0.136182  0.102196   \n",
       "1924  8.407378   -0.162521  14.751604  0.012756  0.360857  0.187796  0.103611   \n",
       "1925  8.006368   -2.120304  14.058457  0.013451  0.153949  0.107738  0.044302   \n",
       "\n",
       "        Theta4    Theta5    Theta6    Theta7  Theta8    Theta9  \n",
       "0     0.015983  0.276442  0.000000  0.068734     0.0  0.090220  \n",
       "1     0.015575  0.241167  0.000000  0.132528     0.0  0.056359  \n",
       "2     0.016617  0.139862  0.033774  0.019388     0.0  0.030921  \n",
       "3     0.010880  0.073783  0.000000  0.000000     0.0  0.030548  \n",
       "4     0.036448  0.311833  0.000000  0.000000     0.0  0.076273  \n",
       "...        ...       ...       ...       ...     ...       ...  \n",
       "1921  0.028841  0.262198  0.000000  0.018545     0.0  0.048959  \n",
       "1922  0.059542  0.115156  0.075165  0.000000     0.0  0.118586  \n",
       "1923  0.023975  0.144643  0.098131  0.000000     0.0  0.212532  \n",
       "1924  0.023432  0.108214  0.016014  0.012044     0.0  0.172680  \n",
       "1925  0.098415  0.138672  0.078541  0.000000     0.0  0.359692  \n",
       "\n",
       "[1926 rows x 20 columns]"
      ]
     },
     "execution_count": 20,
     "metadata": {},
     "output_type": "execute_result"
    }
   ],
   "source": [
    "ct_topics = ct_homes.join(theta)\n",
    "ct_topics"
   ]
  },
  {
   "cell_type": "markdown",
   "metadata": {},
   "source": [
    "#### Fit a linear model with the topic proportions included\n",
    "\n",
    "We now fit a linear model with the topic proportions included. Note that \n",
    "the proportions satisfy $\\theta_0+\\theta_1+\\cdots + \\theta_9 = 1$. Therefore, we remove one of them, since it is redundant. If we don't do this the linear model will be harder to interpret!\n"
   ]
  },
  {
   "cell_type": "code",
   "execution_count": 21,
   "metadata": {},
   "outputs": [
    {
     "data": {
      "text/html": [
       "<table class=\"simpletable\">\n",
       "<caption>OLS Regression Results</caption>\n",
       "<tr>\n",
       "  <th>Dep. Variable:</th>        <td>logPRICE</td>     <th>  R-squared:         </th> <td>   0.849</td>\n",
       "</tr>\n",
       "<tr>\n",
       "  <th>Model:</th>                   <td>OLS</td>       <th>  Adj. R-squared:    </th> <td>   0.848</td>\n",
       "</tr>\n",
       "<tr>\n",
       "  <th>Method:</th>             <td>Least Squares</td>  <th>  F-statistic:       </th> <td>   769.3</td>\n",
       "</tr>\n",
       "<tr>\n",
       "  <th>Date:</th>             <td>Thu, 11 Nov 2021</td> <th>  Prob (F-statistic):</th>  <td>  0.00</td> \n",
       "</tr>\n",
       "<tr>\n",
       "  <th>Time:</th>                 <td>20:55:05</td>     <th>  Log-Likelihood:    </th> <td> -1036.1</td>\n",
       "</tr>\n",
       "<tr>\n",
       "  <th>No. Observations:</th>      <td>  1926</td>      <th>  AIC:               </th> <td>   2102.</td>\n",
       "</tr>\n",
       "<tr>\n",
       "  <th>Df Residuals:</th>          <td>  1911</td>      <th>  BIC:               </th> <td>   2186.</td>\n",
       "</tr>\n",
       "<tr>\n",
       "  <th>Df Model:</th>              <td>    14</td>      <th>                     </th>     <td> </td>   \n",
       "</tr>\n",
       "<tr>\n",
       "  <th>Covariance Type:</th>      <td>nonrobust</td>    <th>                     </th>     <td> </td>   \n",
       "</tr>\n",
       "</table>\n",
       "<table class=\"simpletable\">\n",
       "<tr>\n",
       "       <td></td>         <th>coef</th>     <th>std err</th>      <th>t</th>      <th>P>|t|</th>  <th>[0.025</th>    <th>0.975]</th>  \n",
       "</tr>\n",
       "<tr>\n",
       "  <th>Intercept</th>  <td>    9.0959</td> <td>    0.529</td> <td>   17.190</td> <td> 0.000</td> <td>    8.058</td> <td>   10.134</td>\n",
       "</tr>\n",
       "<tr>\n",
       "  <th>logAREA</th>    <td>    0.4800</td> <td>    0.033</td> <td>   14.571</td> <td> 0.000</td> <td>    0.415</td> <td>    0.545</td>\n",
       "</tr>\n",
       "<tr>\n",
       "  <th>logLOTSIZE</th> <td>    0.0496</td> <td>    0.009</td> <td>    5.319</td> <td> 0.000</td> <td>    0.031</td> <td>    0.068</td>\n",
       "</tr>\n",
       "<tr>\n",
       "  <th>BED</th>        <td>   -0.0081</td> <td>    0.013</td> <td>   -0.644</td> <td> 0.519</td> <td>   -0.033</td> <td>    0.017</td>\n",
       "</tr>\n",
       "<tr>\n",
       "  <th>BATH</th>       <td>    0.1460</td> <td>    0.010</td> <td>   14.585</td> <td> 0.000</td> <td>    0.126</td> <td>    0.166</td>\n",
       "</tr>\n",
       "<tr>\n",
       "  <th>BUILT</th>      <td>    0.0008</td> <td>    0.000</td> <td>    3.598</td> <td> 0.000</td> <td>    0.000</td> <td>    0.001</td>\n",
       "</tr>\n",
       "<tr>\n",
       "  <th>Theta0</th>     <td>    1.7751</td> <td>    0.631</td> <td>    2.814</td> <td> 0.005</td> <td>    0.538</td> <td>    3.012</td>\n",
       "</tr>\n",
       "<tr>\n",
       "  <th>Theta1</th>     <td>   -2.4646</td> <td>    0.163</td> <td>  -15.092</td> <td> 0.000</td> <td>   -2.785</td> <td>   -2.144</td>\n",
       "</tr>\n",
       "<tr>\n",
       "  <th>Theta2</th>     <td>   -2.2093</td> <td>    0.140</td> <td>  -15.758</td> <td> 0.000</td> <td>   -2.484</td> <td>   -1.934</td>\n",
       "</tr>\n",
       "<tr>\n",
       "  <th>Theta3</th>     <td>   -1.0790</td> <td>    0.301</td> <td>   -3.579</td> <td> 0.000</td> <td>   -1.670</td> <td>   -0.488</td>\n",
       "</tr>\n",
       "<tr>\n",
       "  <th>Theta4</th>     <td>   -1.9870</td> <td>    0.294</td> <td>   -6.763</td> <td> 0.000</td> <td>   -2.563</td> <td>   -1.411</td>\n",
       "</tr>\n",
       "<tr>\n",
       "  <th>Theta5</th>     <td>   -2.3583</td> <td>    0.149</td> <td>  -15.820</td> <td> 0.000</td> <td>   -2.651</td> <td>   -2.066</td>\n",
       "</tr>\n",
       "<tr>\n",
       "  <th>Theta6</th>     <td>    3.9930</td> <td>    0.465</td> <td>    8.579</td> <td> 0.000</td> <td>    3.080</td> <td>    4.906</td>\n",
       "</tr>\n",
       "<tr>\n",
       "  <th>Theta7</th>     <td>   -1.0803</td> <td>    0.650</td> <td>   -1.662</td> <td> 0.097</td> <td>   -2.355</td> <td>    0.194</td>\n",
       "</tr>\n",
       "<tr>\n",
       "  <th>Theta8</th>     <td>    0.6659</td> <td>    0.513</td> <td>    1.299</td> <td> 0.194</td> <td>   -0.339</td> <td>    1.671</td>\n",
       "</tr>\n",
       "</table>\n",
       "<table class=\"simpletable\">\n",
       "<tr>\n",
       "  <th>Omnibus:</th>       <td>127.152</td> <th>  Durbin-Watson:     </th> <td>   1.580</td>\n",
       "</tr>\n",
       "<tr>\n",
       "  <th>Prob(Omnibus):</th> <td> 0.000</td>  <th>  Jarque-Bera (JB):  </th> <td> 445.901</td>\n",
       "</tr>\n",
       "<tr>\n",
       "  <th>Skew:</th>          <td> 0.247</td>  <th>  Prob(JB):          </th> <td>1.49e-97</td>\n",
       "</tr>\n",
       "<tr>\n",
       "  <th>Kurtosis:</th>      <td> 5.305</td>  <th>  Cond. No.          </th> <td>1.39e+05</td>\n",
       "</tr>\n",
       "</table><br/><br/>Notes:<br/>[1] Standard Errors assume that the covariance matrix of the errors is correctly specified.<br/>[2] The condition number is large, 1.39e+05. This might indicate that there are<br/>strong multicollinearity or other numerical problems."
      ],
      "text/plain": [
       "<class 'statsmodels.iolib.summary.Summary'>\n",
       "\"\"\"\n",
       "                            OLS Regression Results                            \n",
       "==============================================================================\n",
       "Dep. Variable:               logPRICE   R-squared:                       0.849\n",
       "Model:                            OLS   Adj. R-squared:                  0.848\n",
       "Method:                 Least Squares   F-statistic:                     769.3\n",
       "Date:                Thu, 11 Nov 2021   Prob (F-statistic):               0.00\n",
       "Time:                        20:55:05   Log-Likelihood:                -1036.1\n",
       "No. Observations:                1926   AIC:                             2102.\n",
       "Df Residuals:                    1911   BIC:                             2186.\n",
       "Df Model:                          14                                         \n",
       "Covariance Type:            nonrobust                                         \n",
       "==============================================================================\n",
       "                 coef    std err          t      P>|t|      [0.025      0.975]\n",
       "------------------------------------------------------------------------------\n",
       "Intercept      9.0959      0.529     17.190      0.000       8.058      10.134\n",
       "logAREA        0.4800      0.033     14.571      0.000       0.415       0.545\n",
       "logLOTSIZE     0.0496      0.009      5.319      0.000       0.031       0.068\n",
       "BED           -0.0081      0.013     -0.644      0.519      -0.033       0.017\n",
       "BATH           0.1460      0.010     14.585      0.000       0.126       0.166\n",
       "BUILT          0.0008      0.000      3.598      0.000       0.000       0.001\n",
       "Theta0         1.7751      0.631      2.814      0.005       0.538       3.012\n",
       "Theta1        -2.4646      0.163    -15.092      0.000      -2.785      -2.144\n",
       "Theta2        -2.2093      0.140    -15.758      0.000      -2.484      -1.934\n",
       "Theta3        -1.0790      0.301     -3.579      0.000      -1.670      -0.488\n",
       "Theta4        -1.9870      0.294     -6.763      0.000      -2.563      -1.411\n",
       "Theta5        -2.3583      0.149    -15.820      0.000      -2.651      -2.066\n",
       "Theta6         3.9930      0.465      8.579      0.000       3.080       4.906\n",
       "Theta7        -1.0803      0.650     -1.662      0.097      -2.355       0.194\n",
       "Theta8         0.6659      0.513      1.299      0.194      -0.339       1.671\n",
       "==============================================================================\n",
       "Omnibus:                      127.152   Durbin-Watson:                   1.580\n",
       "Prob(Omnibus):                  0.000   Jarque-Bera (JB):              445.901\n",
       "Skew:                           0.247   Prob(JB):                     1.49e-97\n",
       "Kurtosis:                       5.305   Cond. No.                     1.39e+05\n",
       "==============================================================================\n",
       "\n",
       "Notes:\n",
       "[1] Standard Errors assume that the covariance matrix of the errors is correctly specified.\n",
       "[2] The condition number is large, 1.39e+05. This might indicate that there are\n",
       "strong multicollinearity or other numerical problems.\n",
       "\"\"\""
      ]
     },
     "execution_count": 21,
     "metadata": {},
     "output_type": "execute_result"
    }
   ],
   "source": [
    "model = sm.ols(\"logPRICE ~ logAREA + logLOTSIZE + BED + BATH + BUILT + Theta0 + \" +\n",
    "               \"Theta1 + Theta2 + Theta3 + Theta4 + Theta5 + Theta6 + Theta7 + Theta8\", data=ct_topics).fit()\n",
    "model.summary()"
   ]
  },
  {
   "cell_type": "code",
   "execution_count": 22,
   "metadata": {},
   "outputs": [
    {
     "data": {
      "image/png": "[encoded data removed]",
      "text/plain": [
       "<Figure size 432x288 with 1 Axes>"
      ]
     },
     "metadata": {
      "needs_background": "light"
     },
     "output_type": "display_data"
    }
   ],
   "source": [
    "plt.hist(model.resid, bins=50)\n",
    "plt.show()"
   ]
  },
  {
   "cell_type": "markdown",
   "metadata": {},
   "source": [
    "### Model without the topics included"
   ]
  },
  {
   "cell_type": "code",
   "execution_count": 23,
   "metadata": {},
   "outputs": [
    {
     "data": {
      "text/html": [
       "<table class=\"simpletable\">\n",
       "<caption>OLS Regression Results</caption>\n",
       "<tr>\n",
       "  <th>Dep. Variable:</th>        <td>logPRICE</td>     <th>  R-squared:         </th> <td>   0.787</td>\n",
       "</tr>\n",
       "<tr>\n",
       "  <th>Model:</th>                   <td>OLS</td>       <th>  Adj. R-squared:    </th> <td>   0.786</td>\n",
       "</tr>\n",
       "<tr>\n",
       "  <th>Method:</th>             <td>Least Squares</td>  <th>  F-statistic:       </th> <td>   1417.</td>\n",
       "</tr>\n",
       "<tr>\n",
       "  <th>Date:</th>             <td>Thu, 11 Nov 2021</td> <th>  Prob (F-statistic):</th>  <td>  0.00</td> \n",
       "</tr>\n",
       "<tr>\n",
       "  <th>Time:</th>                 <td>20:55:05</td>     <th>  Log-Likelihood:    </th> <td> -1370.4</td>\n",
       "</tr>\n",
       "<tr>\n",
       "  <th>No. Observations:</th>      <td>  1926</td>      <th>  AIC:               </th> <td>   2753.</td>\n",
       "</tr>\n",
       "<tr>\n",
       "  <th>Df Residuals:</th>          <td>  1920</td>      <th>  BIC:               </th> <td>   2786.</td>\n",
       "</tr>\n",
       "<tr>\n",
       "  <th>Df Model:</th>              <td>     5</td>      <th>                     </th>     <td> </td>   \n",
       "</tr>\n",
       "<tr>\n",
       "  <th>Covariance Type:</th>      <td>nonrobust</td>    <th>                     </th>     <td> </td>   \n",
       "</tr>\n",
       "</table>\n",
       "<table class=\"simpletable\">\n",
       "<tr>\n",
       "       <td></td>         <th>coef</th>     <th>std err</th>      <th>t</th>      <th>P>|t|</th>  <th>[0.025</th>    <th>0.975]</th>  \n",
       "</tr>\n",
       "<tr>\n",
       "  <th>Intercept</th>  <td>    5.9172</td> <td>    0.528</td> <td>   11.203</td> <td> 0.000</td> <td>    4.881</td> <td>    6.953</td>\n",
       "</tr>\n",
       "<tr>\n",
       "  <th>logAREA</th>    <td>    0.7285</td> <td>    0.035</td> <td>   20.723</td> <td> 0.000</td> <td>    0.660</td> <td>    0.797</td>\n",
       "</tr>\n",
       "<tr>\n",
       "  <th>logLOTSIZE</th> <td>    0.0673</td> <td>    0.010</td> <td>    6.481</td> <td> 0.000</td> <td>    0.047</td> <td>    0.088</td>\n",
       "</tr>\n",
       "<tr>\n",
       "  <th>BED</th>        <td>   -0.0620</td> <td>    0.015</td> <td>   -4.214</td> <td> 0.000</td> <td>   -0.091</td> <td>   -0.033</td>\n",
       "</tr>\n",
       "<tr>\n",
       "  <th>BATH</th>       <td>    0.2373</td> <td>    0.011</td> <td>   21.734</td> <td> 0.000</td> <td>    0.216</td> <td>    0.259</td>\n",
       "</tr>\n",
       "<tr>\n",
       "  <th>BUILT</th>      <td>    0.0006</td> <td>    0.000</td> <td>    2.249</td> <td> 0.025</td> <td> 7.19e-05</td> <td>    0.001</td>\n",
       "</tr>\n",
       "</table>\n",
       "<table class=\"simpletable\">\n",
       "<tr>\n",
       "  <th>Omnibus:</th>       <td>271.078</td> <th>  Durbin-Watson:     </th> <td>   1.530</td> \n",
       "</tr>\n",
       "<tr>\n",
       "  <th>Prob(Omnibus):</th> <td> 0.000</td>  <th>  Jarque-Bera (JB):  </th> <td> 863.510</td> \n",
       "</tr>\n",
       "<tr>\n",
       "  <th>Skew:</th>          <td> 0.705</td>  <th>  Prob(JB):          </th> <td>3.10e-188</td>\n",
       "</tr>\n",
       "<tr>\n",
       "  <th>Kurtosis:</th>      <td> 5.961</td>  <th>  Cond. No.          </th> <td>9.18e+04</td> \n",
       "</tr>\n",
       "</table><br/><br/>Notes:<br/>[1] Standard Errors assume that the covariance matrix of the errors is correctly specified.<br/>[2] The condition number is large, 9.18e+04. This might indicate that there are<br/>strong multicollinearity or other numerical problems."
      ],
      "text/plain": [
       "<class 'statsmodels.iolib.summary.Summary'>\n",
       "\"\"\"\n",
       "                            OLS Regression Results                            \n",
       "==============================================================================\n",
       "Dep. Variable:               logPRICE   R-squared:                       0.787\n",
       "Model:                            OLS   Adj. R-squared:                  0.786\n",
       "Method:                 Least Squares   F-statistic:                     1417.\n",
       "Date:                Thu, 11 Nov 2021   Prob (F-statistic):               0.00\n",
       "Time:                        20:55:05   Log-Likelihood:                -1370.4\n",
       "No. Observations:                1926   AIC:                             2753.\n",
       "Df Residuals:                    1920   BIC:                             2786.\n",
       "Df Model:                           5                                         \n",
       "Covariance Type:            nonrobust                                         \n",
       "==============================================================================\n",
       "                 coef    std err          t      P>|t|      [0.025      0.975]\n",
       "------------------------------------------------------------------------------\n",
       "Intercept      5.9172      0.528     11.203      0.000       4.881       6.953\n",
       "logAREA        0.7285      0.035     20.723      0.000       0.660       0.797\n",
       "logLOTSIZE     0.0673      0.010      6.481      0.000       0.047       0.088\n",
       "BED           -0.0620      0.015     -4.214      0.000      -0.091      -0.033\n",
       "BATH           0.2373      0.011     21.734      0.000       0.216       0.259\n",
       "BUILT          0.0006      0.000      2.249      0.025    7.19e-05       0.001\n",
       "==============================================================================\n",
       "Omnibus:                      271.078   Durbin-Watson:                   1.530\n",
       "Prob(Omnibus):                  0.000   Jarque-Bera (JB):              863.510\n",
       "Skew:                           0.705   Prob(JB):                    3.10e-188\n",
       "Kurtosis:                       5.961   Cond. No.                     9.18e+04\n",
       "==============================================================================\n",
       "\n",
       "Notes:\n",
       "[1] Standard Errors assume that the covariance matrix of the errors is correctly specified.\n",
       "[2] The condition number is large, 9.18e+04. This might indicate that there are\n",
       "strong multicollinearity or other numerical problems.\n",
       "\"\"\""
      ]
     },
     "execution_count": 23,
     "metadata": {},
     "output_type": "execute_result"
    }
   ],
   "source": [
    "model_without_topics = sm.ols(\"logPRICE ~ logAREA + logLOTSIZE + BED + BATH + BUILT\", data=ct_topics).fit()\n",
    "model_without_topics.summary()"
   ]
  },
  {
   "cell_type": "markdown",
   "metadata": {},
   "source": [
    "#### 3.2 Plot the residuals\n",
    "\n",
    "On a single plot, show a histogram of the residuals of the model without the topics, \n",
    "and the residuals of the model with the topics. Give a legend that shows which is which.\n",
    "Comment on the results. \n"
   ]
  },
  {
   "cell_type": "code",
   "execution_count": 24,
   "metadata": {},
   "outputs": [],
   "source": [
    "# your code here"
   ]
  },
  {
   "cell_type": "markdown",
   "metadata": {},
   "source": [
    "#### 3.3 Quantify the improvement: R-squared\n",
    "\n",
    "How do the two models compare in terms of R-squared? What do these numbers mean?\n"
   ]
  },
  {
   "cell_type": "markdown",
   "metadata": {},
   "source": [
    "[your markdown here]"
   ]
  },
  {
   "cell_type": "markdown",
   "metadata": {},
   "source": [
    "#### 3.4 Quantify the improvement: MSE decrease\n",
    "\n",
    "What is the percent decrease in the mean-squared-error of the model with the topics\n",
    "compared to the model that ignores the descriptions?\n"
   ]
  },
  {
   "cell_type": "code",
   "execution_count": 25,
   "metadata": {},
   "outputs": [],
   "source": [
    "# [your code and markdown here]"
   ]
  },
  {
   "cell_type": "markdown",
   "metadata": {},
   "source": [
    "#### 3.5 Quantify the improvement: LOOCV\n",
    "\n",
    "What is the percent decrease in the leave-one-out-cross-validation (LOOCV) error?\n",
    "Recall from class that the following formula can be used to calculate this:\n",
    "\n",
    "<img src=\"https://raw.githubusercontent.com/YData123/sds265-fa21/main/assignments/assn6/loocv.png\" width=\"410\" align=\"center\">\n",
    "\n",
    "<br>\n",
    "\n",
    "The following line of code computes this for one of the models:\n",
    "\n",
    "`np.mean((model.resid/(1 - model.get_influence().hat_matrix_diag))**2)`"
   ]
  },
  {
   "cell_type": "code",
   "execution_count": 26,
   "metadata": {},
   "outputs": [],
   "source": [
    "# your code here "
   ]
  },
  {
   "cell_type": "markdown",
   "metadata": {},
   "source": [
    "#### 3.6 Repeat for three topics \n",
    "\n",
    "Now, repeat the above steps for a topic model that is trained using only three (3) topics. Specifically:\n",
    "\n",
    "1. Train a model with three topics\n",
    "1. Display the top words in each of the three topics\n",
    "1. Augment the `ct_homes` data with the resulting topic proportions $\\theta$\n",
    "1. Fit a linear model *using only the first two of the three* proportions\n",
    "1. Plot a histogram of the residuals of the three linear models together\n",
    "1. Comment on the improvement over the baseline in terms of R-squared, MSE, and LOOCV compared with the previous two models.\n"
   ]
  },
  {
   "cell_type": "code",
   "execution_count": 27,
   "metadata": {},
   "outputs": [],
   "source": [
    "# your code and markdown here"
   ]
  },
  {
   "cell_type": "markdown",
   "metadata": {},
   "source": [
    "#### 3.7 Interpretation\n",
    "\n",
    "Now, interpret the model. Use the coefficients of the linear model to \n",
    "help interpret the meaning of the topics. Comment on what this says \n",
    "about the effectiveness of the topic model for predicting the sale price \n",
    "of the house. Does it make intuitive sense? Why or why not?\n"
   ]
  },
  {
   "cell_type": "markdown",
   "metadata": {},
   "source": [
    "[your markdown here]"
   ]
  },
  {
   "cell_type": "markdown",
   "metadata": {},
   "source": [
    "### Problem 4: Topic models unite! (20 points)\n",
    "\n",
    "In this problem we will continue working with topic models, but this time with a new dataset. Instead of real estate listings, we will create topic models over speeches from the United Nations, as described\n",
    "[here](https://towardsdatascience.com/exploring-the-un-general-debates-with-dynamic-topic-models-72dc0e307696). \n",
    "The dataset was [obtained from Kaggle](https://www.kaggle.com/unitednations/un-general-debates/home), an online community of data scientists. "
   ]
  },
  {
   "cell_type": "code",
   "execution_count": 2,
   "metadata": {},
   "outputs": [],
   "source": [
    "import numpy as np\n",
    "import pandas as pd\n",
    "import re\n",
    "import gensim\n",
    "from collections import Counter\n",
    "import matplotlib.pyplot as plt\n",
    "%matplotlib inline"
   ]
  },
  {
   "cell_type": "markdown",
   "metadata": {},
   "source": [
    "The data are in a CSV format in `un-general-debates.csv`. To read it in you can use the \n",
    "function `pd.read_csv`."
   ]
  },
  {
   "cell_type": "code",
   "execution_count": 5,
   "metadata": {},
   "outputs": [
    {
     "data": {
      "text/html": [
       "<div>\n",
       "<style scoped>\n",
       "    .dataframe tbody tr th:only-of-type {\n",
       "        vertical-align: middle;\n",
       "    }\n",
       "\n",
       "    .dataframe tbody tr th {\n",
       "        vertical-align: top;\n",
       "    }\n",
       "\n",
       "    .dataframe thead th {\n",
       "        text-align: right;\n",
       "    }\n",
       "</style>\n",
       "<table border=\"1\" class=\"dataframe\">\n",
       "  <thead>\n",
       "    <tr style=\"text-align: right;\">\n",
       "      <th></th>\n",
       "      <th>session</th>\n",
       "      <th>year</th>\n",
       "      <th>country</th>\n",
       "      <th>text</th>\n",
       "    </tr>\n",
       "  </thead>\n",
       "  <tbody>\n",
       "    <tr>\n",
       "      <th>0</th>\n",
       "      <td>44</td>\n",
       "      <td>1989</td>\n",
       "      <td>MDV</td>\n",
       "      <td>﻿It is indeed a pleasure for me and the member...</td>\n",
       "    </tr>\n",
       "    <tr>\n",
       "      <th>1</th>\n",
       "      <td>44</td>\n",
       "      <td>1989</td>\n",
       "      <td>FIN</td>\n",
       "      <td>﻿\\nMay I begin by congratulating you. Sir, on ...</td>\n",
       "    </tr>\n",
       "    <tr>\n",
       "      <th>2</th>\n",
       "      <td>44</td>\n",
       "      <td>1989</td>\n",
       "      <td>NER</td>\n",
       "      <td>﻿\\nMr. President, it is a particular pleasure ...</td>\n",
       "    </tr>\n",
       "    <tr>\n",
       "      <th>3</th>\n",
       "      <td>44</td>\n",
       "      <td>1989</td>\n",
       "      <td>URY</td>\n",
       "      <td>﻿\\nDuring the debate at the fortieth session o...</td>\n",
       "    </tr>\n",
       "    <tr>\n",
       "      <th>4</th>\n",
       "      <td>44</td>\n",
       "      <td>1989</td>\n",
       "      <td>ZWE</td>\n",
       "      <td>﻿I should like at the outset to express my del...</td>\n",
       "    </tr>\n",
       "    <tr>\n",
       "      <th>...</th>\n",
       "      <td>...</td>\n",
       "      <td>...</td>\n",
       "      <td>...</td>\n",
       "      <td>...</td>\n",
       "    </tr>\n",
       "    <tr>\n",
       "      <th>7502</th>\n",
       "      <td>56</td>\n",
       "      <td>2001</td>\n",
       "      <td>KAZ</td>\n",
       "      <td>﻿This session\\nthat is taking place under extr...</td>\n",
       "    </tr>\n",
       "    <tr>\n",
       "      <th>7503</th>\n",
       "      <td>56</td>\n",
       "      <td>2001</td>\n",
       "      <td>LBR</td>\n",
       "      <td>﻿I am honoured to\\nparticipate in this histori...</td>\n",
       "    </tr>\n",
       "    <tr>\n",
       "      <th>7504</th>\n",
       "      <td>56</td>\n",
       "      <td>2001</td>\n",
       "      <td>BDI</td>\n",
       "      <td>﻿It\\nis for me a signal honour to take the flo...</td>\n",
       "    </tr>\n",
       "    <tr>\n",
       "      <th>7505</th>\n",
       "      <td>56</td>\n",
       "      <td>2001</td>\n",
       "      <td>HUN</td>\n",
       "      <td>﻿First, may I congratulate Mr. Han Seung-soo o...</td>\n",
       "    </tr>\n",
       "    <tr>\n",
       "      <th>7506</th>\n",
       "      <td>56</td>\n",
       "      <td>2001</td>\n",
       "      <td>KWT</td>\n",
       "      <td>﻿On behalf of the State of Kuwait, it\\ngives m...</td>\n",
       "    </tr>\n",
       "  </tbody>\n",
       "</table>\n",
       "<p>7507 rows × 4 columns</p>\n",
       "</div>"
      ],
      "text/plain": [
       "      session  year country                                               text\n",
       "0          44  1989     MDV  ﻿It is indeed a pleasure for me and the member...\n",
       "1          44  1989     FIN  ﻿\\nMay I begin by congratulating you. Sir, on ...\n",
       "2          44  1989     NER  ﻿\\nMr. President, it is a particular pleasure ...\n",
       "3          44  1989     URY  ﻿\\nDuring the debate at the fortieth session o...\n",
       "4          44  1989     ZWE  ﻿I should like at the outset to express my del...\n",
       "...       ...   ...     ...                                                ...\n",
       "7502       56  2001     KAZ  ﻿This session\\nthat is taking place under extr...\n",
       "7503       56  2001     LBR  ﻿I am honoured to\\nparticipate in this histori...\n",
       "7504       56  2001     BDI  ﻿It\\nis for me a signal honour to take the flo...\n",
       "7505       56  2001     HUN  ﻿First, may I congratulate Mr. Han Seung-soo o...\n",
       "7506       56  2001     KWT  ﻿On behalf of the State of Kuwait, it\\ngives m...\n",
       "\n",
       "[7507 rows x 4 columns]"
      ]
     },
     "execution_count": 5,
     "metadata": {},
     "output_type": "execute_result"
    }
   ],
   "source": [
    "un_data = pd.read_csv('un-general-debates.csv')\n",
    "un_data"
   ]
  },
  {
   "cell_type": "markdown",
   "metadata": {},
   "source": [
    "Your task is to build a topic model of these UN speeches.\n",
    "\n",
    "\n",
    "#### 4.1 Clean and process the data, and fit a topic model.\n",
    "\n",
    "You can simply copy over the code from Problem 3, and make appropriate modifications here. This time build \n",
    "a topic model with 15 topics. Here are some suggestions that may help.\n",
    "\n",
    "* You can take just the first (say) 5,000 characters of each speech. Take more or less as you see fit. \n",
    "* Construct a vocabulary that has no more than 5,000 tokens, by setting a sufficiently high count cutoff for the minimum number of times a word appears in the corpus.\n",
    "* The above two items will help the topic model train in a reasonable amount of time and memory."
   ]
  },
  {
   "cell_type": "markdown",
   "metadata": {},
   "source": [
    "Here are the helper functions used above, just renamed:"
   ]
  },
  {
   "cell_type": "code",
   "execution_count": 7,
   "metadata": {},
   "outputs": [],
   "source": [
    "def cleanup_speech(desc):\n",
    "    if type(desc) == float:\n",
    "        desc = \"\"\n",
    "    words = [re.sub(r'[^a-z]', '', w) for w in desc.lower().split(' ')]\n",
    "    return ' '.join(words)\n",
    "\n",
    "def reduce_to_vocabulary(desc, vocab):\n",
    "    return ' '.join([w for w in cleanup_description(desc).split(' ') if w in vocab])\n"
   ]
  },
  {
   "cell_type": "markdown",
   "metadata": {},
   "source": [
    "Using this, for example, we have the first 5,000 characters of the 17th speech:"
   ]
  },
  {
   "cell_type": "code",
   "execution_count": 16,
   "metadata": {
    "scrolled": true
   },
   "outputs": [
    {
     "data": {
      "text/plain": [
       "'please accept sir the congratulations of the delectation of the byelorussian soviet socialist republic on your election as president of the fortyfourth session of the united nations general assembly we are most appreciative of the activities of the secretarygeneral and share the view he expressed in the report on the work of the organization thatthe united nations needs to demonstrate its capacity to function as guardian of the worlds security a p the united nations emerged from the second world war which was unleashed by fascism and militarism which took advantage of the lack of unity among peaceloving forces and of the negative response of the european nations to the soviet proposals for collective action against the aggressor our people took up arms to defend the goals and principles of international relations which were later enshrined with our participation in the united nations charter the members of the antihitler coalition were fighting not only for their national interests but also to bring freedom and independence to so many enslaved nations we welcome the statements made during the general debate about the inviolability of costwar borders in europefundamental changes have taken place in the world represented in the united nations these changes are most profound and radical and signify the end of the cold war and the dawning of an era of peace and mutual trust the renunciation of propagandist polemics and the initiation of a quest for specific bilateral and multilateral action to resolve existing problems by political means drawing upon the prestige and potential of the united nationsclearly the most important feature of these multi faceted features is the fact that they are not confined to narrow national interests of individual states they are global in scale and thus call for a multilateral approach not only are these changes encouraging but they also call for a correct understanding of where they are leading the world in conditions of freedom of choice and of pluralism of opinions based on the new political thinking these changes also mean that we must further outline joint measures to achieve demilitarisation democratization and the humanization of international contacts and to establish the primacy of law in relations among statesover the past few years we have all had a difficult oath to tread gone are the days when people saw everything in terms of black and whites when everyone believed that he alone was right when socialism was made out to be the enemy rather than a partner in world affairs when suspicion and mistrust repelled mutual tolerance and the natural desire of nations to live in peace and friendship with one another when some would put forward proposals to strengthen peace and develop cooperation while others would reject them and without even attempting to understand them when universal human values were not taken into account without wishing to continue this review of an unhappy past for which there are still those who remain nostalgic even today i would point out that in our detailed often heated and at times disrespectful discussions we after all did succeed in restoring and enriching in united nations resolutions and recommendations the meaning of such key notions as international peace and security disarmament economic development cooperation decolonization social justice human rights and so forthbut it is too early to rest on our laurels all this should be embodied in mandatory international legal instruments in this context the next decade which  will mark the end of the twentieth century and of the second millennium will be decisive in terms of whether mankind succeeds in coping with new challenges and whether it will emerge victorious in the struggle for peace and wellbeing for everyone on this planetwe are preoccupied with the problems of eliminating the threat of war bringing about disarmament resolving regional conflicts eliminating the vestiges of colonialism ensuring development social progress observance of human rights and the preservation of an ecological balance it is being increasingly recognized that these problems have a direct bearing on the level of security and the quality of life of the peoples of the worldit would appear that today everyone understands that the use of military force particularly nuclear force with all its devastating consequences has run its course it is also clear that there can be no just settlement of regional conflicts through the use of military force the new level of this understanding has led to important conceptual breakthroughs that have made it possible to conclude and implement the first ever agreement on the actual elimination of a portion of nuclear arsenals of soviet and united states medium and shorterrange missiles it has also made possible the holding of substantive talks on a  per cent reduction in united states and soviet strategic offensive weapons the initiation of the vienna talks on reductions in armed forces and'"
      ]
     },
     "execution_count": 16,
     "metadata": {},
     "output_type": "execute_result"
    }
   ],
   "source": [
    "example = 17\n",
    "cleanup_description(un_data['text'][example])[0:5000]"
   ]
  },
  {
   "cell_type": "markdown",
   "metadata": {},
   "source": [
    "Now, complete the processing of the data in order to build a 15-topic model, displaying the top words in each topic."
   ]
  },
  {
   "cell_type": "code",
   "execution_count": 17,
   "metadata": {},
   "outputs": [],
   "source": [
    "# your code here"
   ]
  },
  {
   "cell_type": "markdown",
   "metadata": {},
   "source": [
    "#### 4.2 Label the Topics\n",
    "\n",
    "Label each the 15 topics with a short (4 words or less) description. "
   ]
  },
  {
   "cell_type": "markdown",
   "metadata": {},
   "source": [
    "[your markdown here]"
   ]
  },
  {
   "cell_type": "markdown",
   "metadata": {},
   "source": [
    "#### 4.3 Table of Topics\n",
    "\n",
    "Create a function `create_speech_table(data, speeches, corpus, lda_model)` which does the following:\n",
    "- Goes through every speech and finds the most likely topic for that speech.\n",
    "- Creates a DataFrame `speech_table` that has the following columns\n",
    "    - `topic`: the topic number of the most likely topic for each abstract\n",
    "    - `label`: the topic label of that topic number, which you assigned in part 1\n",
    "    - `prob`: the probability of that topic number\n",
    "    - `speech`: a string containing the first 200 characters of the speech\n",
    "- Show the first 10 rows of the table, then return the table"
   ]
  },
  {
   "cell_type": "code",
   "execution_count": 18,
   "metadata": {},
   "outputs": [],
   "source": [
    "# your code here"
   ]
  },
  {
   "cell_type": "markdown",
   "metadata": {},
   "source": [
    "#### 4.4 Analysis for selected speeches\n",
    "\n",
    "Choose at least five speeches and discuss how the assignment of topics either does or does not make sense, according to your own understanding of the speeches and topics."
   ]
  },
  {
   "cell_type": "code",
   "execution_count": 19,
   "metadata": {},
   "outputs": [],
   "source": [
    "# your code and markdown here"
   ]
  }
 ],
 "metadata": {
  "kernelspec": {
   "display_name": "Python 3",
   "language": "python",
   "name": "python3"
  },
  "language_info": {
   "codemirror_mode": {
    "name": "ipython",
    "version": 3
   },
   "file_extension": ".py",
   "mimetype": "text/x-python",
   "name": "python",
   "nbconvert_exporter": "python",
   "pygments_lexer": "ipython3",
   "version": "3.8.5"
  },
  "latex_envs": {
   "LaTeX_envs_menu_present": true,
   "autoclose": false,
   "autocomplete": true,
   "bibliofile": "biblio.bib",
   "cite_by": "apalike",
   "current_citInitial": 1,
   "eqLabelWithNumbers": true,
   "eqNumInitial": 1,
   "hotkeys": {
    "equation": "Ctrl-E",
    "itemize": "Ctrl-I"
   },
   "labels_anchors": false,
   "latex_user_defs": false,
   "report_style_numbering": false,
   "user_envs_cfg": false
  },
  "varInspector": {
   "cols": {
    "lenName": 16,
    "lenType": 16,
    "lenVar": 40
   },
   "kernels_config": {
    "python": {
     "delete_cmd_postfix": "",
     "delete_cmd_prefix": "del ",
     "library": "var_list.py",
     "varRefreshCmd": "print(var_dic_list())"
    },
    "r": {
     "delete_cmd_postfix": ") ",
     "delete_cmd_prefix": "rm(",
     "library": "var_list.r",
     "varRefreshCmd": "cat(var_dic_list()) "
    }
   },
   "types_to_exclude": [
    "module",
    "function",
    "builtin_function_or_method",
    "instance",
    "_Feature"
   ],
   "window_display": false
  }
 },
 "nbformat": 4,
 "nbformat_minor": 5
}
